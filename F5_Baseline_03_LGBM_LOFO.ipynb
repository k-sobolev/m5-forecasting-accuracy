{
 "cells": [
  {
   "cell_type": "code",
   "execution_count": 9,
   "metadata": {
    "colab": {},
    "colab_type": "code",
    "id": "iI2iI99LSPIH"
   },
   "outputs": [],
   "source": [
    "URL_calendar = \"https://slavadatasets.s3.us-east-2.amazonaws.com/calendar.csv\"\n",
    "URL_sales_train ='https://slavadatasets.s3.us-east-2.amazonaws.com/sales_train_validation.csv'\n",
    "URL_prices = 'https://slavadatasets.s3.us-east-2.amazonaws.com/sell_prices.csv' "
   ]
  },
  {
   "cell_type": "code",
   "execution_count": 1,
   "metadata": {
    "colab": {},
    "colab_type": "code",
    "id": "VhuViCsKIOFD"
   },
   "outputs": [
    {
     "name": "stderr",
     "output_type": "stream",
     "text": [
      "/Users/ksobolev/opt/anaconda3/lib/python3.7/site-packages/lightgbm/__init__.py:48: UserWarning: Starting from version 2.2.1, the library file in distribution wheels for macOS is built by the Apple Clang (Xcode_8.3.3) compiler.\n",
      "This means that in case of installing LightGBM from PyPI via the ``pip install lightgbm`` command, you don't need to install the gcc compiler anymore.\n",
      "Instead of that, you need to install the OpenMP library, which is required for running LightGBM on the system with the Apple Clang compiler.\n",
      "You can install the OpenMP library by the following command: ``brew install libomp``.\n",
      "  \"You can install the OpenMP library by the following command: ``brew install libomp``.\", UserWarning)\n"
     ]
    }
   ],
   "source": [
    "from  datetime import datetime, timedelta\n",
    "import numpy as np, pandas as pd\n",
    "import gc\n",
    "import io\n",
    "import dask.dataframe as dd\n",
    "import lightgbm as lgb"
   ]
  },
  {
   "cell_type": "code",
   "execution_count": 2,
   "metadata": {
    "colab": {},
    "colab_type": "code",
    "id": "5B_h5GgG9e8-"
   },
   "outputs": [],
   "source": [
    "CAL_DTYPES={\"event_name_1\": \"category\", \"event_name_2\": \"category\", \"event_type_1\": \"category\", \n",
    "         \"event_type_2\": \"category\", \"weekday\": \"category\", 'wm_yr_wk': 'int16', \"wday\": \"int16\",\n",
    "        \"month\": \"int16\", \"year\": \"int16\", \"snap_CA\": \"float32\", 'snap_TX': 'float32', 'snap_WI': 'float32' }\n",
    "PRICE_DTYPES = {\"store_id\": \"category\", \"item_id\": \"category\", \"wm_yr_wk\": \"int16\",\"sell_price\":\"float32\" }"
   ]
  },
  {
   "cell_type": "code",
   "execution_count": 3,
   "metadata": {
    "colab": {},
    "colab_type": "code",
    "id": "3wixoio1-MXN"
   },
   "outputs": [],
   "source": [
    "pd.options.display.max_columns = 50"
   ]
  },
  {
   "cell_type": "code",
   "execution_count": 4,
   "metadata": {
    "colab": {},
    "colab_type": "code",
    "id": "xIMky5iX-Md3"
   },
   "outputs": [],
   "source": [
    "def create_dt(is_train = True, nrows = None, first_day = 1200):\n",
    "     \n",
    "    prices = dd.read_csv(URL_prices,dtype = PRICE_DTYPES).compute()\n",
    "    for col, col_dtype in PRICE_DTYPES.items():\n",
    "        if col_dtype == \"category\":\n",
    "            prices[col] = prices[col].cat.codes.astype(\"int16\")\n",
    "            prices[col] -= prices[col].min()\n",
    "        \n",
    "    cal = dd.read_csv(URL_calendar,dtype = CAL_DTYPES).compute()\n",
    "    cal[\"date\"] = pd.to_datetime(cal[\"date\"])\n",
    "    for col, col_dtype in CAL_DTYPES.items():\n",
    "        if col_dtype == \"category\":\n",
    "            cal[col] = cal[col].cat.codes.astype(\"int16\")\n",
    "            cal[col] -= cal[col].min()\n",
    "    \n",
    "    start_day = max(1 if is_train  else tr_last-max_lags, first_day)\n",
    "    numcols = [f\"d_{day}\" for day in range(start_day,tr_last+1)]\n",
    "    catcols = ['id', 'item_id', 'dept_id','store_id', 'cat_id', 'state_id']\n",
    "    dtype = {numcol:\"float32\" for numcol in numcols} \n",
    "    dtype.update({col: \"category\" for col in catcols if col != \"id\"})\n",
    "    dt = dd.read_csv(URL_sales_train, \n",
    "                     nrows = nrows, usecols = catcols + numcols, dtype = dtype).compute()\n",
    "    \n",
    "    for col in catcols:\n",
    "        if col != \"id\":\n",
    "            dt[col] = dt[col].cat.codes.astype(\"int16\")\n",
    "            dt[col] -= dt[col].min()\n",
    "    \n",
    "    if not is_train:\n",
    "        for day in range(tr_last+1, tr_last+ 28 +1):\n",
    "            dt[f\"d_{day}\"] = np.nan\n",
    "    \n",
    "    dt = pd.melt(dt,\n",
    "                  id_vars = catcols,\n",
    "                  value_vars = [col for col in dt.columns if col.startswith(\"d_\")],\n",
    "                  var_name = \"d\",\n",
    "                  value_name = \"sales\")\n",
    "    \n",
    "    dt = dt.merge(cal, on= \"d\", copy = False)\n",
    "    dt = dt.merge(prices, on = [\"store_id\", \"item_id\", \"wm_yr_wk\"], copy = False)\n",
    "    \n",
    "    return dt"
   ]
  },
  {
   "cell_type": "code",
   "execution_count": 5,
   "metadata": {
    "colab": {},
    "colab_type": "code",
    "id": "JlR9g-9f-Ma-"
   },
   "outputs": [],
   "source": [
    "def create_fea(dt):\n",
    "    lags = [7, 28]\n",
    "    lag_cols = [f\"lag_{lag}\" for lag in lags ]\n",
    "    for lag, lag_col in zip(lags, lag_cols):\n",
    "        dt[lag_col] = dt[[\"id\",\"sales\"]].groupby(\"id\")[\"sales\"].shift(lag)\n",
    "\n",
    "    wins = [7, 28]\n",
    "    for win in wins :\n",
    "        for lag,lag_col in zip(lags, lag_cols):\n",
    "            dt[f\"rmean_{lag}_{win}\"] = dt[[\"id\", lag_col]].groupby(\"id\")[lag_col].transform(lambda x : x.rolling(win).mean())\n",
    "\n",
    "    \n",
    "    \n",
    "    date_features = {\n",
    "        \n",
    "        \"wday\": \"weekday\",\n",
    "        \"week\": \"weekofyear\",\n",
    "        \"month\": \"month\",\n",
    "        \"quarter\": \"quarter\",\n",
    "        \"year\": \"year\",\n",
    "        \"mday\": \"day\",\n",
    "#         \"ime\": \"is_month_end\",\n",
    "#         \"ims\": \"is_month_start\",\n",
    "    }\n",
    "    \n",
    "#     dt.drop([\"d\", \"wm_yr_wk\", \"weekday\"], axis=1, inplace = True)\n",
    "    \n",
    "    for date_feat_name, date_feat_func in date_features.items():\n",
    "        if date_feat_name in dt.columns:\n",
    "            dt[date_feat_name] = dt[date_feat_name].astype(\"int16\")\n",
    "        else:\n",
    "            dt[date_feat_name] = getattr(dt[\"date\"].dt, date_feat_func).astype(\"int16\")"
   ]
  },
  {
   "cell_type": "code",
   "execution_count": 6,
   "metadata": {
    "colab": {
     "base_uri": "https://localhost:8080/",
     "height": 34
    },
    "colab_type": "code",
    "id": "B2l9PbRy_TyF",
    "outputId": "0fa65a3c-94a4-4372-c61c-2714c440c434"
   },
   "outputs": [
    {
     "data": {
      "text/plain": [
       "datetime.datetime(2016, 4, 25, 0, 0)"
      ]
     },
     "execution_count": 6,
     "metadata": {},
     "output_type": "execute_result"
    }
   ],
   "source": [
    "h = 28 \n",
    "max_lags = 57\n",
    "tr_last = 1913\n",
    "fday = datetime(2016,4, 25) \n",
    "fday"
   ]
  },
  {
   "cell_type": "code",
   "execution_count": 7,
   "metadata": {
    "colab": {},
    "colab_type": "code",
    "id": "I2Mv_umD_UJF"
   },
   "outputs": [],
   "source": [
    "# If you want to load all the data set it to '1' -->  Great  memory overflow  risk ! default= 350\n",
    "FIRST_DAY = 350"
   ]
  },
  {
   "cell_type": "code",
   "execution_count": 10,
   "metadata": {
    "colab": {
     "base_uri": "https://localhost:8080/",
     "height": 34
    },
    "colab_type": "code",
    "id": "m5uPRF2O_UMn",
    "outputId": "a89c9492-668e-498c-e1af-0b1344587ea0"
   },
   "outputs": [
    {
     "data": {
      "text/plain": [
       "(40718219, 22)"
      ]
     },
     "execution_count": 10,
     "metadata": {},
     "output_type": "execute_result"
    }
   ],
   "source": [
    "df = create_dt(is_train=True, first_day= FIRST_DAY)\n",
    "df.shape"
   ]
  },
  {
   "cell_type": "code",
   "execution_count": 11,
   "metadata": {
    "colab": {
     "base_uri": "https://localhost:8080/",
     "height": 34
    },
    "colab_type": "code",
    "id": "G-w2CY9f_UTA",
    "outputId": "1dea5227-475e-457b-c39f-5dafb0b8476e"
   },
   "outputs": [
    {
     "data": {
      "text/plain": [
       "(40718219, 31)"
      ]
     },
     "execution_count": 11,
     "metadata": {},
     "output_type": "execute_result"
    }
   ],
   "source": [
    "create_fea(df)\n",
    "df.shape"
   ]
  },
  {
   "cell_type": "code",
   "execution_count": 12,
   "metadata": {
    "colab": {
     "base_uri": "https://localhost:8080/",
     "height": 34
    },
    "colab_type": "code",
    "id": "6QHKAIHf_UQV",
    "outputId": "eaa60e9b-1a47-4d74-820d-2b4f2a993e51"
   },
   "outputs": [
    {
     "data": {
      "text/plain": [
       "(39041269, 31)"
      ]
     },
     "execution_count": 12,
     "metadata": {},
     "output_type": "execute_result"
    }
   ],
   "source": [
    "df.dropna(inplace = True)\n",
    "df.shape"
   ]
  },
  {
   "cell_type": "code",
   "execution_count": 13,
   "metadata": {
    "colab": {
     "base_uri": "https://localhost:8080/",
     "height": 655
    },
    "colab_type": "code",
    "id": "UnyGMbEU_yjc",
    "outputId": "46f62a51-cff2-4a6c-f512-9ae585492601"
   },
   "outputs": [
    {
     "name": "stdout",
     "output_type": "stream",
     "text": [
      "<class 'pandas.core.frame.DataFrame'>\n",
      "Int64Index: 39041269 entries, 869062 to 40718218\n",
      "Data columns (total 31 columns):\n",
      "id              object\n",
      "item_id         int16\n",
      "dept_id         int16\n",
      "store_id        int16\n",
      "cat_id          int16\n",
      "state_id        int16\n",
      "d               object\n",
      "sales           float32\n",
      "date            datetime64[ns]\n",
      "wm_yr_wk        int16\n",
      "weekday         int16\n",
      "wday            int16\n",
      "month           int16\n",
      "year            int16\n",
      "event_name_1    int16\n",
      "event_type_1    int16\n",
      "event_name_2    int16\n",
      "event_type_2    int16\n",
      "snap_CA         float32\n",
      "snap_TX         float32\n",
      "snap_WI         float32\n",
      "sell_price      float32\n",
      "lag_7           float32\n",
      "lag_28          float32\n",
      "rmean_7_7       float32\n",
      "rmean_28_7      float32\n",
      "rmean_7_28      float32\n",
      "rmean_28_28     float32\n",
      "week            int16\n",
      "quarter         int16\n",
      "mday            int16\n",
      "dtypes: datetime64[ns](1), float32(11), int16(17), object(2)\n",
      "memory usage: 4.0+ GB\n"
     ]
    }
   ],
   "source": [
    "df.info()"
   ]
  },
  {
   "cell_type": "code",
   "execution_count": 14,
   "metadata": {
    "colab": {},
    "colab_type": "code",
    "id": "ikkOFX_d6sZ-"
   },
   "outputs": [],
   "source": [
    "cat_feats = ['item_id', 'dept_id', 'store_id', 'cat_id', 'state_id', 'wday', 'month', 'year', 'event_name_1', 'event_type_1', 'event_name_2', 'event_type_2',\n",
    "       'snap_CA', 'snap_TX', 'snap_WI',  'week','quarter', 'mday']"
   ]
  },
  {
   "cell_type": "code",
   "execution_count": 15,
   "metadata": {
    "colab": {},
    "colab_type": "code",
    "id": "jw1MSbwe_jIh"
   },
   "outputs": [],
   "source": [
    "useless_cols = [\"id\", \"date\", \"sales\",\"d\", \"wm_yr_wk\", \"weekday\"]\n",
    "train_cols = df.columns[~df.columns.isin(useless_cols)]\n",
    "X = df[train_cols]\n",
    "y = df[\"sales\"]"
   ]
  },
  {
   "cell_type": "code",
   "execution_count": 16,
   "metadata": {
    "colab": {
     "base_uri": "https://localhost:8080/",
     "height": 34
    },
    "colab_type": "code",
    "id": "5k42mvpgabq4",
    "outputId": "1669a708-7019-4d7d-c860-5e2fea362ddf"
   },
   "outputs": [
    {
     "data": {
      "text/plain": [
       "0"
      ]
     },
     "execution_count": 16,
     "metadata": {},
     "output_type": "execute_result"
    }
   ],
   "source": [
    "del df; gc.collect()"
   ]
  },
  {
   "cell_type": "code",
   "execution_count": 17,
   "metadata": {
    "colab": {
     "base_uri": "https://localhost:8080/",
     "height": 554
    },
    "colab_type": "code",
    "id": "s5roBSJXdtvJ",
    "outputId": "1450998b-d476-4822-ea3a-7c463d51ba1b"
   },
   "outputs": [
    {
     "name": "stdout",
     "output_type": "stream",
     "text": [
      "<class 'pandas.core.frame.DataFrame'>\n",
      "Int64Index: 39041269 entries, 869062 to 40718218\n",
      "Data columns (total 25 columns):\n",
      "item_id         int16\n",
      "dept_id         int16\n",
      "store_id        int16\n",
      "cat_id          int16\n",
      "state_id        int16\n",
      "wday            int16\n",
      "month           int16\n",
      "year            int16\n",
      "event_name_1    int16\n",
      "event_type_1    int16\n",
      "event_name_2    int16\n",
      "event_type_2    int16\n",
      "snap_CA         float32\n",
      "snap_TX         float32\n",
      "snap_WI         float32\n",
      "sell_price      float32\n",
      "lag_7           float32\n",
      "lag_28          float32\n",
      "rmean_7_7       float32\n",
      "rmean_28_7      float32\n",
      "rmean_7_28      float32\n",
      "rmean_28_28     float32\n",
      "week            int16\n",
      "quarter         int16\n",
      "mday            int16\n",
      "dtypes: float32(10), int16(15)\n",
      "memory usage: 2.8 GB\n"
     ]
    }
   ],
   "source": [
    "X.info()"
   ]
  },
  {
   "cell_type": "code",
   "execution_count": 18,
   "metadata": {
    "colab": {},
    "colab_type": "code",
    "id": "mxW6rYXBGXan"
   },
   "outputs": [],
   "source": [
    "\n",
    "np.random.seed(777)\n",
    "\n",
    "fake_valid_inds = np.random.choice(X.index.values, 2_000_000, replace = False)"
   ]
  },
  {
   "cell_type": "code",
   "execution_count": 19,
   "metadata": {
    "colab": {},
    "colab_type": "code",
    "id": "9sxat4THGXxQ"
   },
   "outputs": [],
   "source": [
    "\n",
    "train_inds = np.setdiff1d(X.index.values, fake_valid_inds)\n",
    "train_data = lgb.Dataset(X.loc[train_inds] , label = y.loc[train_inds], \n",
    "                         categorical_feature=cat_feats, free_raw_data=False)\n",
    "fake_valid_data = lgb.Dataset(X.loc[fake_valid_inds], label = y.loc[fake_valid_inds],\n",
    "                              categorical_feature=cat_feats,\n",
    "                 free_raw_data=False)# This is a random sample, we're not gonna apply any time series train-test-split tricks here!"
   ]
  },
  {
   "cell_type": "code",
   "execution_count": 20,
   "metadata": {
    "colab": {
     "base_uri": "https://localhost:8080/",
     "height": 34
    },
    "colab_type": "code",
    "id": "BTMvB_-UGmXu",
    "outputId": "cd08a5c5-b8e6-48ee-b9af-7047956e1373"
   },
   "outputs": [
    {
     "data": {
      "text/plain": [
       "20"
      ]
     },
     "execution_count": 20,
     "metadata": {},
     "output_type": "execute_result"
    }
   ],
   "source": [
    "del X, y, fake_valid_inds, train_inds ; gc.collect()"
   ]
  },
  {
   "cell_type": "code",
   "execution_count": 21,
   "metadata": {
    "colab": {
     "base_uri": "https://localhost:8080/",
     "height": 34
    },
    "colab_type": "code",
    "id": "aIxnhOrOGnTi",
    "outputId": "50f1c9ab-d86c-4a82-9892-87bb6f97b4b1"
   },
   "outputs": [
    {
     "data": {
      "text/plain": [
       "<lightgbm.basic.Dataset at 0x7fb9848bc790>"
      ]
     },
     "execution_count": 21,
     "metadata": {},
     "output_type": "execute_result"
    }
   ],
   "source": [
    "fake_valid_data"
   ]
  },
  {
   "cell_type": "code",
   "execution_count": 22,
   "metadata": {
    "colab": {
     "base_uri": "https://localhost:8080/",
     "height": 222
    },
    "colab_type": "code",
    "id": "PisqmgSmUkik",
    "outputId": "4e3feedc-caed-4bee-c1d6-9d68db0153f5"
   },
   "outputs": [
    {
     "name": "stdout",
     "output_type": "stream",
     "text": [
      "Collecting lofo-importance\n",
      "  Downloading https://files.pythonhosted.org/packages/17/b4/ffa18bca0914b8bcac215fc4ee52970e91c15019f55821cb937ca1e15343/lofo_importance-0.2.5-py2.py3-none-any.whl\n",
      "Requirement already satisfied: numpy in /Users/ksobolev/opt/anaconda3/lib/python3.7/site-packages (from lofo-importance) (1.17.2)\n",
      "Requirement already satisfied: pandas in /Users/ksobolev/opt/anaconda3/lib/python3.7/site-packages (from lofo-importance) (0.25.1)\n",
      "Requirement already satisfied: tqdm in /Users/ksobolev/opt/anaconda3/lib/python3.7/site-packages (from lofo-importance) (4.36.1)\n",
      "Requirement already satisfied: lightgbm in /Users/ksobolev/opt/anaconda3/lib/python3.7/site-packages (from lofo-importance) (2.3.0)\n",
      "Requirement already satisfied: scikit-learn>=0.20.3 in /Users/ksobolev/opt/anaconda3/lib/python3.7/site-packages (from lofo-importance) (0.21.3)\n",
      "Requirement already satisfied: scipy in /Users/ksobolev/opt/anaconda3/lib/python3.7/site-packages (from lofo-importance) (1.4.1)\n",
      "Requirement already satisfied: pytz>=2017.2 in /Users/ksobolev/opt/anaconda3/lib/python3.7/site-packages (from pandas->lofo-importance) (2019.3)\n",
      "Requirement already satisfied: python-dateutil>=2.6.1 in /Users/ksobolev/opt/anaconda3/lib/python3.7/site-packages (from pandas->lofo-importance) (2.8.0)\n",
      "Requirement already satisfied: joblib>=0.11 in /Users/ksobolev/opt/anaconda3/lib/python3.7/site-packages (from scikit-learn>=0.20.3->lofo-importance) (0.13.2)\n",
      "Requirement already satisfied: six>=1.5 in /Users/ksobolev/opt/anaconda3/lib/python3.7/site-packages (from python-dateutil>=2.6.1->pandas->lofo-importance) (1.12.0)\n",
      "Installing collected packages: lofo-importance\n",
      "Successfully installed lofo-importance-0.2.5\n"
     ]
    }
   ],
   "source": [
    "!pip install lofo-importance"
   ]
  },
  {
   "cell_type": "code",
   "execution_count": 23,
   "metadata": {
    "colab": {},
    "colab_type": "code",
    "id": "jms8C0kJSzn4"
   },
   "outputs": [
    {
     "name": "stderr",
     "output_type": "stream",
     "text": [
      "/Users/ksobolev/opt/anaconda3/lib/python3.7/site-packages/tqdm/autonotebook.py:17: TqdmExperimentalWarning: Using `tqdm.autonotebook.tqdm` in notebook mode. Use `tqdm.tqdm` instead to force console mode (e.g. in jupyter console)\n",
      "  \" (e.g. in jupyter console)\", TqdmExperimentalWarning)\n"
     ]
    }
   ],
   "source": [
    "from sklearn.model_selection import KFold\n",
    "from lofo import LOFOImportance, Dataset, plot_importance"
   ]
  },
  {
   "cell_type": "code",
   "execution_count": 24,
   "metadata": {
    "colab": {},
    "colab_type": "code",
    "id": "aXaqXyNSYDoq"
   },
   "outputs": [],
   "source": [
    "from tqdm import tqdm_notebook as tqdm"
   ]
  },
  {
   "cell_type": "code",
   "execution_count": 25,
   "metadata": {
    "colab": {},
    "colab_type": "code",
    "id": "Y5yMLWxBGnJo"
   },
   "outputs": [],
   "source": [
    "params = {\n",
    "        \"objective\" : \"poisson\",\n",
    "        \"metric\" :\"rmse\",\n",
    "        \"force_row_wise\" : True,\n",
    "        \"learning_rate\" : 0.075,\n",
    "#         \"sub_feature\" : 0.8,\n",
    "        \"sub_row\" : 0.75,\n",
    "        \"bagging_freq\" : 1,\n",
    "        \"lambda_l2\" : 0.1,\n",
    "#         \"nthread\" : 4\n",
    "    'verbosity': 1,\n",
    "    'num_iterations' : 1200,\n",
    "    'num_leaves': 128,\n",
    "    \"min_data_in_leaf\": 100,\n",
    "}"
   ]
  },
  {
   "cell_type": "raw",
   "metadata": {
    "colab": {},
    "colab_type": "code",
    "id": "yp09zlHXSrzv"
   },
   "source": [
    "%%time\n",
    "NUM_FOLDS = 2\n",
    "kfold = KFold(NUM_FOLDS, shuffle=False, random_state=0)\n",
    "\n",
    "model = lgb.LGBMRegressor(**params)\n",
    "\n",
    "dataset = Dataset(df=X+y, target=\"sales\", features=X.columns)\n",
    "\n",
    "lofo_imp = LOFOImportance(dataset, model=model, cv=kfold, scoring=\"neg_mean_absolute_error\", fit_params={\"categorical_feature\": cat_feats})\n",
    "\n",
    "importance_df = lofo_imp.get_importance()"
   ]
  },
  {
   "cell_type": "code",
   "execution_count": 26,
   "metadata": {
    "colab": {
     "base_uri": "https://localhost:8080/",
     "height": 1000
    },
    "colab_type": "code",
    "id": "bTZlsTSuSyOQ",
    "outputId": "2a09aa05-f6e7-4919-841a-53a59c3abb43"
   },
   "outputs": [
    {
     "name": "stderr",
     "output_type": "stream",
     "text": [
      "/Users/ksobolev/opt/anaconda3/lib/python3.7/site-packages/lightgbm/engine.py:148: UserWarning: Found `num_iterations` in params. Will use it instead of argument\n",
      "  warnings.warn(\"Found `{}` in params. Will use it instead of argument\".format(alias))\n",
      "/Users/ksobolev/opt/anaconda3/lib/python3.7/site-packages/lightgbm/basic.py:1243: UserWarning: Using categorical_feature in Dataset.\n",
      "  warnings.warn('Using categorical_feature in Dataset.')\n"
     ]
    },
    {
     "name": "stdout",
     "output_type": "stream",
     "text": [
      "[20]\tvalid_0's rmse: 2.91255\n",
      "[40]\tvalid_0's rmse: 2.5962\n",
      "[60]\tvalid_0's rmse: 2.51642\n",
      "[80]\tvalid_0's rmse: 2.49522\n",
      "[100]\tvalid_0's rmse: 2.48517\n",
      "[120]\tvalid_0's rmse: 2.47822\n",
      "[140]\tvalid_0's rmse: 2.46942\n",
      "[160]\tvalid_0's rmse: 2.46102\n",
      "[180]\tvalid_0's rmse: 2.45421\n",
      "[200]\tvalid_0's rmse: 2.44791\n",
      "[220]\tvalid_0's rmse: 2.44336\n",
      "[240]\tvalid_0's rmse: 2.43961\n",
      "[260]\tvalid_0's rmse: 2.4325\n",
      "[280]\tvalid_0's rmse: 2.42546\n",
      "[300]\tvalid_0's rmse: 2.42066\n",
      "[320]\tvalid_0's rmse: 2.41789\n",
      "[340]\tvalid_0's rmse: 2.41397\n",
      "[360]\tvalid_0's rmse: 2.41073\n",
      "[380]\tvalid_0's rmse: 2.4063\n",
      "[400]\tvalid_0's rmse: 2.40233\n",
      "[420]\tvalid_0's rmse: 2.39793\n",
      "[440]\tvalid_0's rmse: 2.39557\n",
      "[460]\tvalid_0's rmse: 2.39276\n",
      "[480]\tvalid_0's rmse: 2.39032\n",
      "[500]\tvalid_0's rmse: 2.38757\n",
      "[520]\tvalid_0's rmse: 2.38642\n",
      "[540]\tvalid_0's rmse: 2.38391\n",
      "[560]\tvalid_0's rmse: 2.38225\n",
      "[580]\tvalid_0's rmse: 2.37963\n",
      "[600]\tvalid_0's rmse: 2.37681\n",
      "[620]\tvalid_0's rmse: 2.375\n",
      "[640]\tvalid_0's rmse: 2.37404\n",
      "[660]\tvalid_0's rmse: 2.37187\n",
      "[680]\tvalid_0's rmse: 2.36904\n",
      "[700]\tvalid_0's rmse: 2.36557\n",
      "[720]\tvalid_0's rmse: 2.36381\n",
      "[740]\tvalid_0's rmse: 2.36241\n",
      "[760]\tvalid_0's rmse: 2.36133\n",
      "[780]\tvalid_0's rmse: 2.36024\n",
      "[800]\tvalid_0's rmse: 2.35903\n",
      "[820]\tvalid_0's rmse: 2.35751\n",
      "[840]\tvalid_0's rmse: 2.35587\n",
      "[860]\tvalid_0's rmse: 2.35424\n",
      "[880]\tvalid_0's rmse: 2.35284\n",
      "[900]\tvalid_0's rmse: 2.3517\n",
      "[920]\tvalid_0's rmse: 2.35049\n",
      "[940]\tvalid_0's rmse: 2.34871\n",
      "[960]\tvalid_0's rmse: 2.34723\n",
      "[980]\tvalid_0's rmse: 2.34543\n",
      "[1000]\tvalid_0's rmse: 2.34399\n",
      "[1020]\tvalid_0's rmse: 2.34283\n",
      "[1040]\tvalid_0's rmse: 2.34208\n",
      "[1060]\tvalid_0's rmse: 2.34034\n",
      "[1080]\tvalid_0's rmse: 2.33912\n",
      "[1100]\tvalid_0's rmse: 2.33803\n",
      "[1120]\tvalid_0's rmse: 2.33733\n",
      "[1140]\tvalid_0's rmse: 2.33618\n",
      "[1160]\tvalid_0's rmse: 2.33592\n",
      "[1180]\tvalid_0's rmse: 2.33532\n",
      "[1200]\tvalid_0's rmse: 2.33485\n",
      "CPU times: user 9h 19min 33s, sys: 5min 14s, total: 9h 24min 48s\n",
      "Wall time: 1h 44min 34s\n"
     ]
    }
   ],
   "source": [
    "%%time\n",
    "\n",
    "m_lgb = lgb.train(params, train_data, valid_sets = [fake_valid_data], verbose_eval=20) "
   ]
  },
  {
   "cell_type": "code",
   "execution_count": 27,
   "metadata": {
    "colab": {
     "base_uri": "https://localhost:8080/",
     "height": 521
    },
    "colab_type": "code",
    "id": "D5K6rNQOXhAh",
    "outputId": "3696ab4c-3d24-4b9d-f19f-d422b6d0f0a9"
   },
   "outputs": [
    {
     "name": "stdout",
     "output_type": "stream",
     "text": [
      "0 2016-04-25 00:00:00\n",
      "1 2016-04-26 00:00:00\n",
      "2 2016-04-27 00:00:00\n",
      "3 2016-04-28 00:00:00\n",
      "4 2016-04-29 00:00:00\n",
      "5 2016-04-30 00:00:00\n",
      "6 2016-05-01 00:00:00\n",
      "7 2016-05-02 00:00:00\n",
      "8 2016-05-03 00:00:00\n",
      "9 2016-05-04 00:00:00\n",
      "10 2016-05-05 00:00:00\n",
      "11 2016-05-06 00:00:00\n",
      "12 2016-05-07 00:00:00\n",
      "13 2016-05-08 00:00:00\n",
      "14 2016-05-09 00:00:00\n",
      "15 2016-05-10 00:00:00\n",
      "16 2016-05-11 00:00:00\n",
      "17 2016-05-12 00:00:00\n",
      "18 2016-05-13 00:00:00\n",
      "19 2016-05-14 00:00:00\n",
      "20 2016-05-15 00:00:00\n",
      "21 2016-05-16 00:00:00\n",
      "22 2016-05-17 00:00:00\n",
      "23 2016-05-18 00:00:00\n",
      "24 2016-05-19 00:00:00\n",
      "25 2016-05-20 00:00:00\n",
      "26 2016-05-21 00:00:00\n",
      "27 2016-05-22 00:00:00\n",
      "0 1.028 0.3333333333333333\n",
      "0 2016-04-25 00:00:00\n",
      "1 2016-04-26 00:00:00\n",
      "2 2016-04-27 00:00:00\n",
      "3 2016-04-28 00:00:00\n",
      "4 2016-04-29 00:00:00\n",
      "5 2016-04-30 00:00:00\n",
      "6 2016-05-01 00:00:00\n",
      "7 2016-05-02 00:00:00\n",
      "8 2016-05-03 00:00:00\n",
      "9 2016-05-04 00:00:00\n",
      "10 2016-05-05 00:00:00\n",
      "11 2016-05-06 00:00:00\n",
      "12 2016-05-07 00:00:00\n",
      "13 2016-05-08 00:00:00\n",
      "14 2016-05-09 00:00:00\n",
      "15 2016-05-10 00:00:00\n",
      "16 2016-05-11 00:00:00\n",
      "17 2016-05-12 00:00:00\n",
      "18 2016-05-13 00:00:00\n",
      "19 2016-05-14 00:00:00\n",
      "20 2016-05-15 00:00:00\n",
      "21 2016-05-16 00:00:00\n",
      "22 2016-05-17 00:00:00\n",
      "23 2016-05-18 00:00:00\n",
      "24 2016-05-19 00:00:00\n",
      "25 2016-05-20 00:00:00\n",
      "26 2016-05-21 00:00:00\n",
      "27 2016-05-22 00:00:00\n",
      "1 1.023 0.3333333333333333\n",
      "0 2016-04-25 00:00:00\n",
      "1 2016-04-26 00:00:00\n",
      "2 2016-04-27 00:00:00\n",
      "3 2016-04-28 00:00:00\n",
      "4 2016-04-29 00:00:00\n",
      "5 2016-04-30 00:00:00\n",
      "6 2016-05-01 00:00:00\n",
      "7 2016-05-02 00:00:00\n",
      "8 2016-05-03 00:00:00\n",
      "9 2016-05-04 00:00:00\n",
      "10 2016-05-05 00:00:00\n",
      "11 2016-05-06 00:00:00\n",
      "12 2016-05-07 00:00:00\n",
      "13 2016-05-08 00:00:00\n",
      "14 2016-05-09 00:00:00\n",
      "15 2016-05-10 00:00:00\n",
      "16 2016-05-11 00:00:00\n",
      "17 2016-05-12 00:00:00\n",
      "18 2016-05-13 00:00:00\n",
      "19 2016-05-14 00:00:00\n",
      "20 2016-05-15 00:00:00\n",
      "21 2016-05-16 00:00:00\n",
      "22 2016-05-17 00:00:00\n",
      "23 2016-05-18 00:00:00\n",
      "24 2016-05-19 00:00:00\n",
      "25 2016-05-20 00:00:00\n",
      "26 2016-05-21 00:00:00\n",
      "27 2016-05-22 00:00:00\n",
      "2 1.018 0.3333333333333333\n",
      "CPU times: user 2h 8min 21s, sys: 8min 12s, total: 2h 16min 34s\n",
      "Wall time: 2h 51s\n",
      "Parser   : 290 ms\n"
     ]
    }
   ],
   "source": [
    "%%time\n",
    "\n",
    "alphas = [1.028, 1.023, 1.018]\n",
    "weights = [1/len(alphas)]*len(alphas)\n",
    "sub = 0.\n",
    "\n",
    "for icount, (alpha, weight) in enumerate(zip(alphas, weights)):\n",
    "\n",
    "    te = create_dt(False)\n",
    "    cols = [f\"F{i}\" for i in range(1,29)]\n",
    "\n",
    "    for tdelta in range(0, 28):\n",
    "        day = fday + timedelta(days=tdelta)\n",
    "        print(tdelta, day)\n",
    "        tst = te[(te.date >= day - timedelta(days=max_lags)) & (te.date <= day)].copy()\n",
    "        create_fea(tst)\n",
    "        tst = tst.loc[tst.date == day , train_cols]\n",
    "        te.loc[te.date == day, \"sales\"] = alpha*m_lgb.predict(tst) # magic multiplier by kyakovlev\n",
    "\n",
    "\n",
    "\n",
    "    te_sub = te.loc[te.date >= fday, [\"id\", \"sales\"]].copy()\n",
    "#     te_sub.loc[te.date >= fday+ timedelta(days=h), \"id\"] = te_sub.loc[te.date >= fday+timedelta(days=h), \n",
    "#                                                                           \"id\"].str.replace(\"validation$\", \"evaluation\")\n",
    "    te_sub[\"F\"] = [f\"F{rank}\" for rank in te_sub.groupby(\"id\")[\"id\"].cumcount()+1]\n",
    "    te_sub = te_sub.set_index([\"id\", \"F\" ]).unstack()[\"sales\"][cols].reset_index()\n",
    "    te_sub.fillna(0., inplace = True)\n",
    "    te_sub.sort_values(\"id\", inplace = True)\n",
    "    te_sub.reset_index(drop=True, inplace = True)\n",
    "    te_sub.to_csv(f\"submission_{icount}.csv\",index=False)\n",
    "    if icount == 0 :\n",
    "        sub = te_sub\n",
    "        sub[cols] *= weight\n",
    "    else:\n",
    "        sub[cols] += te_sub[cols]*weight\n",
    "    print(icount, alpha, weight)\n",
    "\n",
    "sub2 = sub.copy()\n",
    "sub2[\"id\"] = sub2[\"id\"].str.replace(\"validation$\", \"evaluation\")\n",
    "sub = pd.concat([sub, sub2], axis=0, sort=False)    "
   ]
  },
  {
   "cell_type": "code",
   "execution_count": null,
   "metadata": {
    "colab": {},
    "colab_type": "code",
    "id": "pV879mQwSo4o"
   },
   "outputs": [],
   "source": [
    "sub.head(10)"
   ]
  },
  {
   "cell_type": "code",
   "execution_count": null,
   "metadata": {
    "colab": {},
    "colab_type": "code",
    "id": "upbYxVVvbAJJ"
   },
   "outputs": [],
   "source": [
    "sub.id.nunique(), sub[\"id\"].str.contains(\"validation$\").sum()"
   ]
  },
  {
   "cell_type": "code",
   "execution_count": null,
   "metadata": {
    "colab": {},
    "colab_type": "code",
    "id": "4jUIzwudbBpI"
   },
   "outputs": [],
   "source": [
    "sub.shape"
   ]
  }
 ],
 "metadata": {
  "colab": {
   "collapsed_sections": [],
   "machine_shape": "hm",
   "name": "F5_Baseline.ipynb",
   "provenance": []
  },
  "kernelspec": {
   "display_name": "Python 3",
   "language": "python",
   "name": "python3"
  },
  "language_info": {
   "codemirror_mode": {
    "name": "ipython",
    "version": 3
   },
   "file_extension": ".py",
   "mimetype": "text/x-python",
   "name": "python",
   "nbconvert_exporter": "python",
   "pygments_lexer": "ipython3",
   "version": "3.7.4"
  }
 },
 "nbformat": 4,
 "nbformat_minor": 1
}
