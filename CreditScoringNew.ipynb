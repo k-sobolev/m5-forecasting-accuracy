{
 "cells": [
  {
   "cell_type": "markdown",
   "metadata": {},
   "source": [
    "### Полезные ссылки для изучения Python\n",
    "* Питон с нуля: http://nbviewer.jupyter.org/gist/rpmuller/5920182\n",
    "* Можно попробовать Jupyter без установки: https://try.jupyter.org/; https://tmpnb.org/.\n",
    "* Коллекция оутбуков: https://github.com/ipython/ipython/wiki/A-gallery-of-interesting-IPython-Notebooks\n",
    "* Туториалы по машинному обучению: https://github.com/ujjwalkarn/Machine-Learning-Tutorials"
   ]
  },
  {
   "cell_type": "markdown",
   "metadata": {},
   "source": [
    "## Кредитный Скоринг\n",
    "\n",
    "#### Описание задачи\n",
    "Дана выборка заявок на кредитный продукт. Про заявителей известны различные данные на момент заполнения анкеты. По части выборки (train, validate) известны результаты пользования кредитом (случился дефолт или нет), а по другой части(test) результаты известны только организаторам. Необходимо извлечь зависимость из имеющихся данных о заявителях и фактом наличия дефолта, и предсказать результат на тестовых данных.\n",
    "В качестве ментрики используется [AUC](https://www.kaggle.com/wiki/AreaUnderCurve).\n",
    "#### Описаие выборки  \n",
    "\n",
    "##### APPLICATION_INFO.csv  \n",
    " - **id** - идентификатор счета\n",
    " - **application_dt** -  Дата подачи заявки\n",
    " - **sample_cd** -  Категория выборки\n",
    " - **education_cd** -  Образование\n",
    " - **gender_cd** -  Пол\n",
    " - **age** -  Возраст\n",
    " - **car_own_flg** -  Флаг наличия автомобиля\n",
    " - **car_type_flg** -  Флаг наличия иномарки\n",
    " - **appl_rej_cnt** -  Количество отказанных прошлых заявок\n",
    " - **good_work_flg** -  Флаг наличия \"хорошей\" работы\n",
    " - **Score_bki** -  Скор балл по данным из бюро кредитных историй\n",
    " - **out_request_cnt** -  Количество запросов в бюро\n",
    " - **region_rating** -  Рейтиг региона\n",
    " - **home_address_cd** -  Категаризатор домашнего адреса\n",
    " - **work_address_cd** -  Категаризатор рабочего адреса\n",
    " - **income** -  Доход заявителя\n",
    " - **SNA** -  Связь заявителя с клиентами\n",
    " - **first_time_cd** -  Давность наличия информации о заявителе\n",
    " - **Air_flg** -  Наличие загран паспорта\n",
    " \n",
    "##### DEFAULT_FLG.csv  \n",
    "\n",
    " - **id** - идентификатор счета\n",
    " - **default_flg** -  Флаг дефота по кредиту\n",
    "\n"
   ]
  },
  {
   "cell_type": "code",
   "execution_count": 2,
   "metadata": {
    "collapsed": true
   },
   "outputs": [],
   "source": [
    "#Подключаем библиотеки\n",
    "import pandas as pd #Обработка табличных данных\n",
    "import numpy as np #Алгоритмы линейной алгебры\n",
    "import matplotlib.pyplot as plt #Различные способы визуализации\n",
    "%matplotlib inline"
   ]
  },
  {
   "cell_type": "markdown",
   "metadata": {},
   "source": [
    "#### Предобработка данных"
   ]
  },
  {
   "cell_type": "code",
   "execution_count": 3,
   "metadata": {},
   "outputs": [
    {
     "ename": "IOError",
     "evalue": "File application_info.csv does not exist",
     "output_type": "error",
     "traceback": [
      "\u001b[0;31m---------------------------------------------------------------------------\u001b[0m",
      "\u001b[0;31mIOError\u001b[0m                                   Traceback (most recent call last)",
      "\u001b[0;32m<ipython-input-3-d5794d9f59ef>\u001b[0m in \u001b[0;36m<module>\u001b[0;34m()\u001b[0m\n\u001b[1;32m      1\u001b[0m \u001b[0;31m#Считываем данные из csv файла\u001b[0m\u001b[0;34m\u001b[0m\u001b[0;34m\u001b[0m\u001b[0m\n\u001b[0;32m----> 2\u001b[0;31m \u001b[0mdf\u001b[0m \u001b[0;34m=\u001b[0m \u001b[0mpd\u001b[0m\u001b[0;34m.\u001b[0m\u001b[0mread_csv\u001b[0m\u001b[0;34m(\u001b[0m\u001b[0;34m'application_info.csv'\u001b[0m\u001b[0;34m,\u001b[0m \u001b[0mindex_col\u001b[0m\u001b[0;34m=\u001b[0m\u001b[0;34m'id'\u001b[0m\u001b[0;34m)\u001b[0m\u001b[0;34m\u001b[0m\u001b[0m\n\u001b[0m",
      "\u001b[0;32m/anaconda/lib/python2.7/site-packages/pandas/io/parsers.pyc\u001b[0m in \u001b[0;36mparser_f\u001b[0;34m(filepath_or_buffer, sep, delimiter, header, names, index_col, usecols, squeeze, prefix, mangle_dupe_cols, dtype, engine, converters, true_values, false_values, skipinitialspace, skiprows, nrows, na_values, keep_default_na, na_filter, verbose, skip_blank_lines, parse_dates, infer_datetime_format, keep_date_col, date_parser, dayfirst, iterator, chunksize, compression, thousands, decimal, lineterminator, quotechar, quoting, escapechar, comment, encoding, dialect, tupleize_cols, error_bad_lines, warn_bad_lines, skipfooter, skip_footer, doublequote, delim_whitespace, as_recarray, compact_ints, use_unsigned, low_memory, buffer_lines, memory_map, float_precision)\u001b[0m\n\u001b[1;32m    644\u001b[0m                     skip_blank_lines=skip_blank_lines)\n\u001b[1;32m    645\u001b[0m \u001b[0;34m\u001b[0m\u001b[0m\n\u001b[0;32m--> 646\u001b[0;31m         \u001b[0;32mreturn\u001b[0m \u001b[0m_read\u001b[0m\u001b[0;34m(\u001b[0m\u001b[0mfilepath_or_buffer\u001b[0m\u001b[0;34m,\u001b[0m \u001b[0mkwds\u001b[0m\u001b[0;34m)\u001b[0m\u001b[0;34m\u001b[0m\u001b[0m\n\u001b[0m\u001b[1;32m    647\u001b[0m \u001b[0;34m\u001b[0m\u001b[0m\n\u001b[1;32m    648\u001b[0m     \u001b[0mparser_f\u001b[0m\u001b[0;34m.\u001b[0m\u001b[0m__name__\u001b[0m \u001b[0;34m=\u001b[0m \u001b[0mname\u001b[0m\u001b[0;34m\u001b[0m\u001b[0m\n",
      "\u001b[0;32m/anaconda/lib/python2.7/site-packages/pandas/io/parsers.pyc\u001b[0m in \u001b[0;36m_read\u001b[0;34m(filepath_or_buffer, kwds)\u001b[0m\n\u001b[1;32m    387\u001b[0m \u001b[0;34m\u001b[0m\u001b[0m\n\u001b[1;32m    388\u001b[0m     \u001b[0;31m# Create the parser.\u001b[0m\u001b[0;34m\u001b[0m\u001b[0;34m\u001b[0m\u001b[0m\n\u001b[0;32m--> 389\u001b[0;31m     \u001b[0mparser\u001b[0m \u001b[0;34m=\u001b[0m \u001b[0mTextFileReader\u001b[0m\u001b[0;34m(\u001b[0m\u001b[0mfilepath_or_buffer\u001b[0m\u001b[0;34m,\u001b[0m \u001b[0;34m**\u001b[0m\u001b[0mkwds\u001b[0m\u001b[0;34m)\u001b[0m\u001b[0;34m\u001b[0m\u001b[0m\n\u001b[0m\u001b[1;32m    390\u001b[0m \u001b[0;34m\u001b[0m\u001b[0m\n\u001b[1;32m    391\u001b[0m     \u001b[0;32mif\u001b[0m \u001b[0;34m(\u001b[0m\u001b[0mnrows\u001b[0m \u001b[0;32mis\u001b[0m \u001b[0;32mnot\u001b[0m \u001b[0mNone\u001b[0m\u001b[0;34m)\u001b[0m \u001b[0;32mand\u001b[0m \u001b[0;34m(\u001b[0m\u001b[0mchunksize\u001b[0m \u001b[0;32mis\u001b[0m \u001b[0;32mnot\u001b[0m \u001b[0mNone\u001b[0m\u001b[0;34m)\u001b[0m\u001b[0;34m:\u001b[0m\u001b[0;34m\u001b[0m\u001b[0m\n",
      "\u001b[0;32m/anaconda/lib/python2.7/site-packages/pandas/io/parsers.pyc\u001b[0m in \u001b[0;36m__init__\u001b[0;34m(self, f, engine, **kwds)\u001b[0m\n\u001b[1;32m    728\u001b[0m             \u001b[0mself\u001b[0m\u001b[0;34m.\u001b[0m\u001b[0moptions\u001b[0m\u001b[0;34m[\u001b[0m\u001b[0;34m'has_index_names'\u001b[0m\u001b[0;34m]\u001b[0m \u001b[0;34m=\u001b[0m \u001b[0mkwds\u001b[0m\u001b[0;34m[\u001b[0m\u001b[0;34m'has_index_names'\u001b[0m\u001b[0;34m]\u001b[0m\u001b[0;34m\u001b[0m\u001b[0m\n\u001b[1;32m    729\u001b[0m \u001b[0;34m\u001b[0m\u001b[0m\n\u001b[0;32m--> 730\u001b[0;31m         \u001b[0mself\u001b[0m\u001b[0;34m.\u001b[0m\u001b[0m_make_engine\u001b[0m\u001b[0;34m(\u001b[0m\u001b[0mself\u001b[0m\u001b[0;34m.\u001b[0m\u001b[0mengine\u001b[0m\u001b[0;34m)\u001b[0m\u001b[0;34m\u001b[0m\u001b[0m\n\u001b[0m\u001b[1;32m    731\u001b[0m \u001b[0;34m\u001b[0m\u001b[0m\n\u001b[1;32m    732\u001b[0m     \u001b[0;32mdef\u001b[0m \u001b[0mclose\u001b[0m\u001b[0;34m(\u001b[0m\u001b[0mself\u001b[0m\u001b[0;34m)\u001b[0m\u001b[0;34m:\u001b[0m\u001b[0;34m\u001b[0m\u001b[0m\n",
      "\u001b[0;32m/anaconda/lib/python2.7/site-packages/pandas/io/parsers.pyc\u001b[0m in \u001b[0;36m_make_engine\u001b[0;34m(self, engine)\u001b[0m\n\u001b[1;32m    921\u001b[0m     \u001b[0;32mdef\u001b[0m \u001b[0m_make_engine\u001b[0m\u001b[0;34m(\u001b[0m\u001b[0mself\u001b[0m\u001b[0;34m,\u001b[0m \u001b[0mengine\u001b[0m\u001b[0;34m=\u001b[0m\u001b[0;34m'c'\u001b[0m\u001b[0;34m)\u001b[0m\u001b[0;34m:\u001b[0m\u001b[0;34m\u001b[0m\u001b[0m\n\u001b[1;32m    922\u001b[0m         \u001b[0;32mif\u001b[0m \u001b[0mengine\u001b[0m \u001b[0;34m==\u001b[0m \u001b[0;34m'c'\u001b[0m\u001b[0;34m:\u001b[0m\u001b[0;34m\u001b[0m\u001b[0m\n\u001b[0;32m--> 923\u001b[0;31m             \u001b[0mself\u001b[0m\u001b[0;34m.\u001b[0m\u001b[0m_engine\u001b[0m \u001b[0;34m=\u001b[0m \u001b[0mCParserWrapper\u001b[0m\u001b[0;34m(\u001b[0m\u001b[0mself\u001b[0m\u001b[0;34m.\u001b[0m\u001b[0mf\u001b[0m\u001b[0;34m,\u001b[0m \u001b[0;34m**\u001b[0m\u001b[0mself\u001b[0m\u001b[0;34m.\u001b[0m\u001b[0moptions\u001b[0m\u001b[0;34m)\u001b[0m\u001b[0;34m\u001b[0m\u001b[0m\n\u001b[0m\u001b[1;32m    924\u001b[0m         \u001b[0;32melse\u001b[0m\u001b[0;34m:\u001b[0m\u001b[0;34m\u001b[0m\u001b[0m\n\u001b[1;32m    925\u001b[0m             \u001b[0;32mif\u001b[0m \u001b[0mengine\u001b[0m \u001b[0;34m==\u001b[0m \u001b[0;34m'python'\u001b[0m\u001b[0;34m:\u001b[0m\u001b[0;34m\u001b[0m\u001b[0m\n",
      "\u001b[0;32m/anaconda/lib/python2.7/site-packages/pandas/io/parsers.pyc\u001b[0m in \u001b[0;36m__init__\u001b[0;34m(self, src, **kwds)\u001b[0m\n\u001b[1;32m   1388\u001b[0m         \u001b[0mkwds\u001b[0m\u001b[0;34m[\u001b[0m\u001b[0;34m'allow_leading_cols'\u001b[0m\u001b[0;34m]\u001b[0m \u001b[0;34m=\u001b[0m \u001b[0mself\u001b[0m\u001b[0;34m.\u001b[0m\u001b[0mindex_col\u001b[0m \u001b[0;32mis\u001b[0m \u001b[0;32mnot\u001b[0m \u001b[0mFalse\u001b[0m\u001b[0;34m\u001b[0m\u001b[0m\n\u001b[1;32m   1389\u001b[0m \u001b[0;34m\u001b[0m\u001b[0m\n\u001b[0;32m-> 1390\u001b[0;31m         \u001b[0mself\u001b[0m\u001b[0;34m.\u001b[0m\u001b[0m_reader\u001b[0m \u001b[0;34m=\u001b[0m \u001b[0m_parser\u001b[0m\u001b[0;34m.\u001b[0m\u001b[0mTextReader\u001b[0m\u001b[0;34m(\u001b[0m\u001b[0msrc\u001b[0m\u001b[0;34m,\u001b[0m \u001b[0;34m**\u001b[0m\u001b[0mkwds\u001b[0m\u001b[0;34m)\u001b[0m\u001b[0;34m\u001b[0m\u001b[0m\n\u001b[0m\u001b[1;32m   1391\u001b[0m \u001b[0;34m\u001b[0m\u001b[0m\n\u001b[1;32m   1392\u001b[0m         \u001b[0;31m# XXX\u001b[0m\u001b[0;34m\u001b[0m\u001b[0;34m\u001b[0m\u001b[0m\n",
      "\u001b[0;32mpandas/parser.pyx\u001b[0m in \u001b[0;36mpandas.parser.TextReader.__cinit__ (pandas/parser.c:4184)\u001b[0;34m()\u001b[0m\n",
      "\u001b[0;32mpandas/parser.pyx\u001b[0m in \u001b[0;36mpandas.parser.TextReader._setup_parser_source (pandas/parser.c:8449)\u001b[0;34m()\u001b[0m\n",
      "\u001b[0;31mIOError\u001b[0m: File application_info.csv does not exist"
     ]
    }
   ],
   "source": [
    "#Считываем данные из csv файла\n",
    "df = pd.read_csv('application_info.csv', index_col='id')"
   ]
  },
  {
   "cell_type": "code",
   "execution_count": null,
   "metadata": {
    "collapsed": true
   },
   "outputs": [],
   "source": [
    "#Тип данных\n",
    "type(df)"
   ]
  },
  {
   "cell_type": "code",
   "execution_count": null,
   "metadata": {
    "collapsed": true
   },
   "outputs": [],
   "source": [
    "#Размерность данных\n",
    "df.shape"
   ]
  },
  {
   "cell_type": "code",
   "execution_count": 4,
   "metadata": {},
   "outputs": [
    {
     "ename": "NameError",
     "evalue": "name 'df' is not defined",
     "output_type": "error",
     "traceback": [
      "\u001b[0;31m---------------------------------------------------------------------------\u001b[0m",
      "\u001b[0;31mNameError\u001b[0m                                 Traceback (most recent call last)",
      "\u001b[0;32m<ipython-input-4-13ccae996f0e>\u001b[0m in \u001b[0;36m<module>\u001b[0;34m()\u001b[0m\n\u001b[1;32m      1\u001b[0m \u001b[0;31m#Выведем первые несколько строк\u001b[0m\u001b[0;34m\u001b[0m\u001b[0;34m\u001b[0m\u001b[0m\n\u001b[0;32m----> 2\u001b[0;31m \u001b[0mdf\u001b[0m\u001b[0;34m.\u001b[0m\u001b[0mhead\u001b[0m\u001b[0;34m(\u001b[0m\u001b[0;36m5\u001b[0m\u001b[0;34m)\u001b[0m\u001b[0;34m\u001b[0m\u001b[0m\n\u001b[0m",
      "\u001b[0;31mNameError\u001b[0m: name 'df' is not defined"
     ]
    }
   ],
   "source": [
    "#Выведем первые несколько строк\n",
    "df.head(5)"
   ]
  },
  {
   "cell_type": "code",
   "execution_count": 5,
   "metadata": {},
   "outputs": [
    {
     "ename": "NameError",
     "evalue": "name 'df' is not defined",
     "output_type": "error",
     "traceback": [
      "\u001b[0;31m---------------------------------------------------------------------------\u001b[0m",
      "\u001b[0;31mNameError\u001b[0m                                 Traceback (most recent call last)",
      "\u001b[0;32m<ipython-input-5-e933803bd92f>\u001b[0m in \u001b[0;36m<module>\u001b[0;34m()\u001b[0m\n\u001b[1;32m      1\u001b[0m \u001b[0;31m#Выведем несколько последних строк\u001b[0m\u001b[0;34m\u001b[0m\u001b[0;34m\u001b[0m\u001b[0m\n\u001b[0;32m----> 2\u001b[0;31m \u001b[0mdf\u001b[0m\u001b[0;34m.\u001b[0m\u001b[0mtail\u001b[0m\u001b[0;34m(\u001b[0m\u001b[0;36m2\u001b[0m\u001b[0;34m)\u001b[0m\u001b[0;34m\u001b[0m\u001b[0m\n\u001b[0m",
      "\u001b[0;31mNameError\u001b[0m: name 'df' is not defined"
     ]
    }
   ],
   "source": [
    "#Выведем несколько последних строк\n",
    "df.tail(2)"
   ]
  },
  {
   "cell_type": "code",
   "execution_count": 6,
   "metadata": {},
   "outputs": [
    {
     "ename": "NameError",
     "evalue": "name 'df' is not defined",
     "output_type": "error",
     "traceback": [
      "\u001b[0;31m---------------------------------------------------------------------------\u001b[0m",
      "\u001b[0;31mNameError\u001b[0m                                 Traceback (most recent call last)",
      "\u001b[0;32m<ipython-input-6-68fca46247b0>\u001b[0m in \u001b[0;36m<module>\u001b[0;34m()\u001b[0m\n\u001b[1;32m      1\u001b[0m \u001b[0;31m#Список всех полей\u001b[0m\u001b[0;34m\u001b[0m\u001b[0;34m\u001b[0m\u001b[0m\n\u001b[0;32m----> 2\u001b[0;31m \u001b[0mdf\u001b[0m\u001b[0;34m.\u001b[0m\u001b[0mcolumns\u001b[0m\u001b[0;34m\u001b[0m\u001b[0m\n\u001b[0m",
      "\u001b[0;31mNameError\u001b[0m: name 'df' is not defined"
     ]
    }
   ],
   "source": [
    "#Список всех полей\n",
    "df.columns"
   ]
  },
  {
   "cell_type": "code",
   "execution_count": 7,
   "metadata": {},
   "outputs": [
    {
     "ename": "NameError",
     "evalue": "name 'df' is not defined",
     "output_type": "error",
     "traceback": [
      "\u001b[0;31m---------------------------------------------------------------------------\u001b[0m",
      "\u001b[0;31mNameError\u001b[0m                                 Traceback (most recent call last)",
      "\u001b[0;32m<ipython-input-7-a31407752aa4>\u001b[0m in \u001b[0;36m<module>\u001b[0;34m()\u001b[0m\n\u001b[1;32m      1\u001b[0m \u001b[0;31m#Выведем типы полей\u001b[0m\u001b[0;34m\u001b[0m\u001b[0;34m\u001b[0m\u001b[0m\n\u001b[0;32m----> 2\u001b[0;31m \u001b[0mdf\u001b[0m\u001b[0;34m.\u001b[0m\u001b[0mdtypes\u001b[0m\u001b[0;34m\u001b[0m\u001b[0m\n\u001b[0m",
      "\u001b[0;31mNameError\u001b[0m: name 'df' is not defined"
     ]
    }
   ],
   "source": [
    "#Выведем типы полей\n",
    "df.dtypes"
   ]
  },
  {
   "cell_type": "code",
   "execution_count": 8,
   "metadata": {},
   "outputs": [
    {
     "ename": "NameError",
     "evalue": "name 'df' is not defined",
     "output_type": "error",
     "traceback": [
      "\u001b[0;31m---------------------------------------------------------------------------\u001b[0m",
      "\u001b[0;31mNameError\u001b[0m                                 Traceback (most recent call last)",
      "\u001b[0;32m<ipython-input-8-d4ff28961351>\u001b[0m in \u001b[0;36m<module>\u001b[0;34m()\u001b[0m\n\u001b[1;32m      1\u001b[0m \u001b[0;31m#К элемнтам таблицы можно обращаться следующим способом\u001b[0m\u001b[0;34m\u001b[0m\u001b[0;34m\u001b[0m\u001b[0m\n\u001b[0;32m----> 2\u001b[0;31m \u001b[0;32mprint\u001b[0m\u001b[0;34m(\u001b[0m\u001b[0mdf\u001b[0m\u001b[0;34m[\u001b[0m\u001b[0;34m'education_cd'\u001b[0m\u001b[0;34m]\u001b[0m\u001b[0;34m[\u001b[0m\u001b[0;36m2\u001b[0m\u001b[0;34m]\u001b[0m\u001b[0;34m)\u001b[0m\u001b[0;34m\u001b[0m\u001b[0m\n\u001b[0m\u001b[1;32m      3\u001b[0m \u001b[0;32mprint\u001b[0m\u001b[0;34m(\u001b[0m\u001b[0mdf\u001b[0m\u001b[0;34m.\u001b[0m\u001b[0meducation_cd\u001b[0m\u001b[0;34m[\u001b[0m\u001b[0;36m2\u001b[0m\u001b[0;34m]\u001b[0m\u001b[0;34m)\u001b[0m\u001b[0;34m\u001b[0m\u001b[0m\n\u001b[1;32m      4\u001b[0m \u001b[0;32mprint\u001b[0m\u001b[0;34m(\u001b[0m\u001b[0mdf\u001b[0m\u001b[0;34m.\u001b[0m\u001b[0mat\u001b[0m\u001b[0;34m[\u001b[0m\u001b[0;36m2\u001b[0m\u001b[0;34m,\u001b[0m\u001b[0;34m'education_cd'\u001b[0m\u001b[0;34m]\u001b[0m\u001b[0;34m)\u001b[0m\u001b[0;34m\u001b[0m\u001b[0m\n",
      "\u001b[0;31mNameError\u001b[0m: name 'df' is not defined"
     ]
    }
   ],
   "source": [
    "#К элемнтам таблицы можно обращаться следующим способом\n",
    "print(df['education_cd'][2])\n",
    "print(df.education_cd[2])\n",
    "print(df.at[2,'education_cd'])"
   ]
  },
  {
   "cell_type": "code",
   "execution_count": 10,
   "metadata": {},
   "outputs": [
    {
     "data": {
      "text/html": [
       "<div>\n",
       "<table border=\"1\" class=\"dataframe\">\n",
       "  <thead>\n",
       "    <tr style=\"text-align: right;\">\n",
       "      <th></th>\n",
       "      <th>age</th>\n",
       "      <th>appl_rej_cnt</th>\n",
       "      <th>good_work_flg</th>\n",
       "      <th>Score_bki</th>\n",
       "      <th>out_request_cnt</th>\n",
       "      <th>region_rating</th>\n",
       "      <th>home_address_cd</th>\n",
       "      <th>work_address_cd</th>\n",
       "      <th>income</th>\n",
       "      <th>SNA</th>\n",
       "      <th>first_time_cd</th>\n",
       "    </tr>\n",
       "  </thead>\n",
       "  <tbody>\n",
       "    <tr>\n",
       "      <th>count</th>\n",
       "      <td>205296.000000</td>\n",
       "      <td>205296.000000</td>\n",
       "      <td>205296.000000</td>\n",
       "      <td>205296.000000</td>\n",
       "      <td>205296.000000</td>\n",
       "      <td>205296.000000</td>\n",
       "      <td>205296.000000</td>\n",
       "      <td>205296.000000</td>\n",
       "      <td>205296.000000</td>\n",
       "      <td>205296.000000</td>\n",
       "      <td>205296.000000</td>\n",
       "    </tr>\n",
       "    <tr>\n",
       "      <th>mean</th>\n",
       "      <td>39.354566</td>\n",
       "      <td>0.277297</td>\n",
       "      <td>0.169701</td>\n",
       "      <td>-1.967120</td>\n",
       "      <td>2.015826</td>\n",
       "      <td>57.332340</td>\n",
       "      <td>1.602218</td>\n",
       "      <td>2.520210</td>\n",
       "      <td>42251.807610</td>\n",
       "      <td>1.725864</td>\n",
       "      <td>2.791657</td>\n",
       "    </tr>\n",
       "    <tr>\n",
       "      <th>std</th>\n",
       "      <td>11.451011</td>\n",
       "      <td>0.782794</td>\n",
       "      <td>0.375371</td>\n",
       "      <td>0.488055</td>\n",
       "      <td>2.138564</td>\n",
       "      <td>13.262627</td>\n",
       "      <td>0.520577</td>\n",
       "      <td>0.689453</td>\n",
       "      <td>45183.110679</td>\n",
       "      <td>1.115876</td>\n",
       "      <td>1.024393</td>\n",
       "    </tr>\n",
       "    <tr>\n",
       "      <th>min</th>\n",
       "      <td>21.000000</td>\n",
       "      <td>0.000000</td>\n",
       "      <td>0.000000</td>\n",
       "      <td>-3.624586</td>\n",
       "      <td>0.000000</td>\n",
       "      <td>20.000000</td>\n",
       "      <td>1.000000</td>\n",
       "      <td>1.000000</td>\n",
       "      <td>1000.000000</td>\n",
       "      <td>1.000000</td>\n",
       "      <td>1.000000</td>\n",
       "    </tr>\n",
       "    <tr>\n",
       "      <th>25%</th>\n",
       "      <td>30.000000</td>\n",
       "      <td>0.000000</td>\n",
       "      <td>0.000000</td>\n",
       "      <td>-2.313894</td>\n",
       "      <td>1.000000</td>\n",
       "      <td>50.000000</td>\n",
       "      <td>1.000000</td>\n",
       "      <td>2.000000</td>\n",
       "      <td>20000.000000</td>\n",
       "      <td>1.000000</td>\n",
       "      <td>2.000000</td>\n",
       "    </tr>\n",
       "    <tr>\n",
       "      <th>50%</th>\n",
       "      <td>37.000000</td>\n",
       "      <td>0.000000</td>\n",
       "      <td>0.000000</td>\n",
       "      <td>-1.990599</td>\n",
       "      <td>2.000000</td>\n",
       "      <td>50.000000</td>\n",
       "      <td>2.000000</td>\n",
       "      <td>3.000000</td>\n",
       "      <td>30000.000000</td>\n",
       "      <td>1.000000</td>\n",
       "      <td>3.000000</td>\n",
       "    </tr>\n",
       "    <tr>\n",
       "      <th>75%</th>\n",
       "      <td>48.000000</td>\n",
       "      <td>0.000000</td>\n",
       "      <td>0.000000</td>\n",
       "      <td>-1.641914</td>\n",
       "      <td>3.000000</td>\n",
       "      <td>70.000000</td>\n",
       "      <td>2.000000</td>\n",
       "      <td>3.000000</td>\n",
       "      <td>50000.000000</td>\n",
       "      <td>2.000000</td>\n",
       "      <td>4.000000</td>\n",
       "    </tr>\n",
       "    <tr>\n",
       "      <th>max</th>\n",
       "      <td>72.000000</td>\n",
       "      <td>33.000000</td>\n",
       "      <td>1.000000</td>\n",
       "      <td>0.199773</td>\n",
       "      <td>53.000000</td>\n",
       "      <td>80.000000</td>\n",
       "      <td>3.000000</td>\n",
       "      <td>3.000000</td>\n",
       "      <td>1000000.000000</td>\n",
       "      <td>4.000000</td>\n",
       "      <td>4.000000</td>\n",
       "    </tr>\n",
       "  </tbody>\n",
       "</table>\n",
       "</div>"
      ],
      "text/plain": [
       "                 age   appl_rej_cnt  good_work_flg      Score_bki  \\\n",
       "count  205296.000000  205296.000000  205296.000000  205296.000000   \n",
       "mean       39.354566       0.277297       0.169701      -1.967120   \n",
       "std        11.451011       0.782794       0.375371       0.488055   \n",
       "min        21.000000       0.000000       0.000000      -3.624586   \n",
       "25%        30.000000       0.000000       0.000000      -2.313894   \n",
       "50%        37.000000       0.000000       0.000000      -1.990599   \n",
       "75%        48.000000       0.000000       0.000000      -1.641914   \n",
       "max        72.000000      33.000000       1.000000       0.199773   \n",
       "\n",
       "       out_request_cnt  region_rating  home_address_cd  work_address_cd  \\\n",
       "count    205296.000000  205296.000000    205296.000000    205296.000000   \n",
       "mean          2.015826      57.332340         1.602218         2.520210   \n",
       "std           2.138564      13.262627         0.520577         0.689453   \n",
       "min           0.000000      20.000000         1.000000         1.000000   \n",
       "25%           1.000000      50.000000         1.000000         2.000000   \n",
       "50%           2.000000      50.000000         2.000000         3.000000   \n",
       "75%           3.000000      70.000000         2.000000         3.000000   \n",
       "max          53.000000      80.000000         3.000000         3.000000   \n",
       "\n",
       "               income            SNA  first_time_cd  \n",
       "count   205296.000000  205296.000000  205296.000000  \n",
       "mean     42251.807610       1.725864       2.791657  \n",
       "std      45183.110679       1.115876       1.024393  \n",
       "min       1000.000000       1.000000       1.000000  \n",
       "25%      20000.000000       1.000000       2.000000  \n",
       "50%      30000.000000       1.000000       3.000000  \n",
       "75%      50000.000000       2.000000       4.000000  \n",
       "max    1000000.000000       4.000000       4.000000  "
      ]
     },
     "execution_count": 10,
     "metadata": {},
     "output_type": "execute_result"
    }
   ],
   "source": [
    "#Выведем сводную информацию по числовым призакам\n",
    "df.describe()"
   ]
  },
  {
   "cell_type": "code",
   "execution_count": 11,
   "metadata": {},
   "outputs": [
    {
     "data": {
      "text/html": [
       "<div>\n",
       "<table border=\"1\" class=\"dataframe\">\n",
       "  <thead>\n",
       "    <tr style=\"text-align: right;\">\n",
       "      <th></th>\n",
       "      <th>application_dt</th>\n",
       "      <th>sample_cd</th>\n",
       "      <th>education_cd</th>\n",
       "      <th>gender_cd</th>\n",
       "      <th>car_own_flg</th>\n",
       "      <th>car_type_flg</th>\n",
       "      <th>Air_flg</th>\n",
       "    </tr>\n",
       "  </thead>\n",
       "  <tbody>\n",
       "    <tr>\n",
       "      <th>count</th>\n",
       "      <td>205296</td>\n",
       "      <td>205296</td>\n",
       "      <td>204384</td>\n",
       "      <td>205296</td>\n",
       "      <td>205296</td>\n",
       "      <td>205296</td>\n",
       "      <td>205296</td>\n",
       "    </tr>\n",
       "    <tr>\n",
       "      <th>unique</th>\n",
       "      <td>333</td>\n",
       "      <td>3</td>\n",
       "      <td>5</td>\n",
       "      <td>2</td>\n",
       "      <td>2</td>\n",
       "      <td>2</td>\n",
       "      <td>2</td>\n",
       "    </tr>\n",
       "    <tr>\n",
       "      <th>top</th>\n",
       "      <td>18MAR2014</td>\n",
       "      <td>train</td>\n",
       "      <td>SCH</td>\n",
       "      <td>F</td>\n",
       "      <td>N</td>\n",
       "      <td>N</td>\n",
       "      <td>N</td>\n",
       "    </tr>\n",
       "    <tr>\n",
       "      <th>freq</th>\n",
       "      <td>1491</td>\n",
       "      <td>110148</td>\n",
       "      <td>100234</td>\n",
       "      <td>117400</td>\n",
       "      <td>139119</td>\n",
       "      <td>166471</td>\n",
       "      <td>172168</td>\n",
       "    </tr>\n",
       "  </tbody>\n",
       "</table>\n",
       "</div>"
      ],
      "text/plain": [
       "       application_dt sample_cd education_cd gender_cd car_own_flg  \\\n",
       "count          205296    205296       204384    205296      205296   \n",
       "unique            333         3            5         2           2   \n",
       "top         18MAR2014     train          SCH         F           N   \n",
       "freq             1491    110148       100234    117400      139119   \n",
       "\n",
       "       car_type_flg Air_flg  \n",
       "count        205296  205296  \n",
       "unique            2       2  \n",
       "top               N       N  \n",
       "freq         166471  172168  "
      ]
     },
     "execution_count": 11,
     "metadata": {},
     "output_type": "execute_result"
    }
   ],
   "source": [
    "#Выведем сводную информацию по строковым призакам\n",
    "df.describe(include=['object'])"
   ]
  },
  {
   "cell_type": "code",
   "execution_count": 12,
   "metadata": {
    "collapsed": true
   },
   "outputs": [],
   "source": [
    "#application_date - дата. Изменим формат\n",
    "df['application_dt'] = pd.to_datetime(df['application_dt'], format='%d%b%Y')"
   ]
  },
  {
   "cell_type": "code",
   "execution_count": 13,
   "metadata": {},
   "outputs": [
    {
     "data": {
      "text/plain": [
       "train       110148\n",
       "validate     70668\n",
       "test         24480\n",
       "Name: sample_cd, dtype: int64"
      ]
     },
     "execution_count": 13,
     "metadata": {},
     "output_type": "execute_result"
    }
   ],
   "source": [
    "#Можно считать кол-во значений\n",
    "df.sample_cd.value_counts()"
   ]
  },
  {
   "cell_type": "code",
   "execution_count": 14,
   "metadata": {
    "scrolled": true
   },
   "outputs": [
    {
     "data": {
      "image/png": "[encoded data removed]",
      "text/plain": [
       "<matplotlib.figure.Figure at 0x11271f710>"
      ]
     },
     "metadata": {},
     "output_type": "display_data"
    }
   ],
   "source": [
    "df.sample_cd.value_counts().plot(kind='bar');"
   ]
  },
  {
   "cell_type": "code",
   "execution_count": 15,
   "metadata": {},
   "outputs": [
    {
     "data": {
      "image/png": "[encoded data removed]",
      "text/plain": [
       "<matplotlib.figure.Figure at 0x11271fe50>"
      ]
     },
     "metadata": {},
     "output_type": "display_data"
    }
   ],
   "source": [
    "df.application_dt.value_counts().plot();"
   ]
  },
  {
   "cell_type": "code",
   "execution_count": 16,
   "metadata": {},
   "outputs": [
    {
     "name": "stdout",
     "output_type": "stream",
     "text": [
      "(180816, 1)\n"
     ]
    },
    {
     "data": {
      "text/html": [
       "<div>\n",
       "<table border=\"1\" class=\"dataframe\">\n",
       "  <thead>\n",
       "    <tr style=\"text-align: right;\">\n",
       "      <th></th>\n",
       "      <th>default_flg</th>\n",
       "    </tr>\n",
       "    <tr>\n",
       "      <th>id</th>\n",
       "      <th></th>\n",
       "    </tr>\n",
       "  </thead>\n",
       "  <tbody>\n",
       "    <tr>\n",
       "      <th>1</th>\n",
       "      <td>0</td>\n",
       "    </tr>\n",
       "    <tr>\n",
       "      <th>2</th>\n",
       "      <td>0</td>\n",
       "    </tr>\n",
       "  </tbody>\n",
       "</table>\n",
       "</div>"
      ],
      "text/plain": [
       "    default_flg\n",
       "id             \n",
       "1             0\n",
       "2             0"
      ]
     },
     "execution_count": 16,
     "metadata": {},
     "output_type": "execute_result"
    }
   ],
   "source": [
    "#Загрузим флаг дефолта\n",
    "y = pd.read_csv('default_flg.csv', index_col='id')\n",
    "print(y.shape)\n",
    "y.head(2)"
   ]
  },
  {
   "cell_type": "code",
   "execution_count": 17,
   "metadata": {},
   "outputs": [
    {
     "data": {
      "text/html": [
       "<div>\n",
       "<table border=\"1\" class=\"dataframe\">\n",
       "  <thead>\n",
       "    <tr style=\"text-align: right;\">\n",
       "      <th></th>\n",
       "      <th>education_cd</th>\n",
       "      <th>gender_cd</th>\n",
       "      <th>age</th>\n",
       "      <th>car_own_flg</th>\n",
       "      <th>car_type_flg</th>\n",
       "      <th>appl_rej_cnt</th>\n",
       "      <th>good_work_flg</th>\n",
       "      <th>Score_bki</th>\n",
       "      <th>out_request_cnt</th>\n",
       "      <th>region_rating</th>\n",
       "      <th>home_address_cd</th>\n",
       "      <th>work_address_cd</th>\n",
       "      <th>income</th>\n",
       "      <th>SNA</th>\n",
       "      <th>first_time_cd</th>\n",
       "      <th>Air_flg</th>\n",
       "    </tr>\n",
       "    <tr>\n",
       "      <th>id</th>\n",
       "      <th></th>\n",
       "      <th></th>\n",
       "      <th></th>\n",
       "      <th></th>\n",
       "      <th></th>\n",
       "      <th></th>\n",
       "      <th></th>\n",
       "      <th></th>\n",
       "      <th></th>\n",
       "      <th></th>\n",
       "      <th></th>\n",
       "      <th></th>\n",
       "      <th></th>\n",
       "      <th></th>\n",
       "      <th></th>\n",
       "      <th></th>\n",
       "    </tr>\n",
       "  </thead>\n",
       "  <tbody>\n",
       "    <tr>\n",
       "      <th>1</th>\n",
       "      <td>SCH</td>\n",
       "      <td>M</td>\n",
       "      <td>27</td>\n",
       "      <td>Y</td>\n",
       "      <td>Y</td>\n",
       "      <td>0</td>\n",
       "      <td>0</td>\n",
       "      <td>-1.917831</td>\n",
       "      <td>0</td>\n",
       "      <td>40</td>\n",
       "      <td>2</td>\n",
       "      <td>3</td>\n",
       "      <td>32000</td>\n",
       "      <td>1</td>\n",
       "      <td>4</td>\n",
       "      <td>N</td>\n",
       "    </tr>\n",
       "  </tbody>\n",
       "</table>\n",
       "</div>"
      ],
      "text/plain": [
       "   education_cd gender_cd  age car_own_flg car_type_flg  appl_rej_cnt  \\\n",
       "id                                                                      \n",
       "1           SCH         M   27           Y            Y             0   \n",
       "\n",
       "    good_work_flg  Score_bki  out_request_cnt  region_rating  home_address_cd  \\\n",
       "id                                                                              \n",
       "1               0  -1.917831                0             40                2   \n",
       "\n",
       "    work_address_cd  income  SNA  first_time_cd Air_flg  \n",
       "id                                                       \n",
       "1                 3   32000    1              4       N  "
      ]
     },
     "execution_count": 17,
     "metadata": {},
     "output_type": "execute_result"
    }
   ],
   "source": [
    "#Запоминаем разбивку на обучение, валидацию и тест\n",
    "train_index    = df[df.sample_cd =='train'].sample_cd.index\n",
    "validate_index = df[df.sample_cd =='validate'].sample_cd.index\n",
    "test_index     = df[df.sample_cd =='test'].sample_cd.index\n",
    "\n",
    "#Удаляем два столбца из выборки\n",
    "df.drop(['sample_cd','application_dt'],axis=1,inplace=True)\n",
    "df.head(1)"
   ]
  },
  {
   "cell_type": "code",
   "execution_count": 18,
   "metadata": {},
   "outputs": [
    {
     "data": {
      "text/plain": [
       "['education_cd', 'gender_cd', 'car_own_flg', 'car_type_flg', 'Air_flg']"
      ]
     },
     "execution_count": 18,
     "metadata": {},
     "output_type": "execute_result"
    }
   ],
   "source": [
    "#Список категориальных полей\n",
    "category_columns = [col for col in df.columns if df.dtypes[col] == 'object']\n",
    "category_columns"
   ]
  },
  {
   "cell_type": "code",
   "execution_count": 19,
   "metadata": {},
   "outputs": [
    {
     "name": "stdout",
     "output_type": "stream",
     "text": [
      "189\n",
      "912\n"
     ]
    }
   ],
   "source": [
    "#Поля с пустыми значениями\n",
    "df.isnull().any()\n",
    "data = df[df.isnull()['education_cd'] == True]\n",
    "print sum(i > 180817 for i in data.index.values)\n",
    "print len(data.index.values)"
   ]
  },
  {
   "cell_type": "code",
   "execution_count": 20,
   "metadata": {},
   "outputs": [
    {
     "data": {
      "text/plain": [
       "SCH    100234\n",
       "GRD     71417\n",
       "UGR     28284\n",
       "PGR      3841\n",
       "NaN       912\n",
       "ACD       608\n",
       "Name: education_cd, dtype: int64"
      ]
     },
     "execution_count": 20,
     "metadata": {},
     "output_type": "execute_result"
    }
   ],
   "source": [
    "df.education_cd.value_counts(dropna=False)"
   ]
  },
  {
   "cell_type": "code",
   "execution_count": 21,
   "metadata": {},
   "outputs": [
    {
     "data": {
      "text/html": [
       "<div>\n",
       "<table border=\"1\" class=\"dataframe\">\n",
       "  <thead>\n",
       "    <tr style=\"text-align: right;\">\n",
       "      <th></th>\n",
       "      <th>education_cd</th>\n",
       "      <th>gender_cd</th>\n",
       "      <th>age</th>\n",
       "      <th>car_own_flg</th>\n",
       "      <th>car_type_flg</th>\n",
       "      <th>appl_rej_cnt</th>\n",
       "      <th>good_work_flg</th>\n",
       "      <th>Score_bki</th>\n",
       "      <th>out_request_cnt</th>\n",
       "      <th>region_rating</th>\n",
       "      <th>home_address_cd</th>\n",
       "      <th>work_address_cd</th>\n",
       "      <th>income</th>\n",
       "      <th>SNA</th>\n",
       "      <th>first_time_cd</th>\n",
       "      <th>Air_flg</th>\n",
       "    </tr>\n",
       "    <tr>\n",
       "      <th>id</th>\n",
       "      <th></th>\n",
       "      <th></th>\n",
       "      <th></th>\n",
       "      <th></th>\n",
       "      <th></th>\n",
       "      <th></th>\n",
       "      <th></th>\n",
       "      <th></th>\n",
       "      <th></th>\n",
       "      <th></th>\n",
       "      <th></th>\n",
       "      <th></th>\n",
       "      <th></th>\n",
       "      <th></th>\n",
       "      <th></th>\n",
       "      <th></th>\n",
       "    </tr>\n",
       "  </thead>\n",
       "  <tbody>\n",
       "    <tr>\n",
       "      <th>1</th>\n",
       "      <td>SCH</td>\n",
       "      <td>M</td>\n",
       "      <td>27</td>\n",
       "      <td>Y</td>\n",
       "      <td>Y</td>\n",
       "      <td>0</td>\n",
       "      <td>0</td>\n",
       "      <td>-1.917831</td>\n",
       "      <td>0</td>\n",
       "      <td>40</td>\n",
       "      <td>2</td>\n",
       "      <td>3</td>\n",
       "      <td>32000</td>\n",
       "      <td>1</td>\n",
       "      <td>4</td>\n",
       "      <td>N</td>\n",
       "    </tr>\n",
       "    <tr>\n",
       "      <th>2</th>\n",
       "      <td>GRD</td>\n",
       "      <td>F</td>\n",
       "      <td>26</td>\n",
       "      <td>N</td>\n",
       "      <td>N</td>\n",
       "      <td>0</td>\n",
       "      <td>0</td>\n",
       "      <td>-1.153144</td>\n",
       "      <td>2</td>\n",
       "      <td>60</td>\n",
       "      <td>2</td>\n",
       "      <td>3</td>\n",
       "      <td>50000</td>\n",
       "      <td>2</td>\n",
       "      <td>1</td>\n",
       "      <td>N</td>\n",
       "    </tr>\n",
       "    <tr>\n",
       "      <th>3</th>\n",
       "      <td>SCH</td>\n",
       "      <td>M</td>\n",
       "      <td>35</td>\n",
       "      <td>N</td>\n",
       "      <td>N</td>\n",
       "      <td>0</td>\n",
       "      <td>1</td>\n",
       "      <td>-1.732810</td>\n",
       "      <td>0</td>\n",
       "      <td>40</td>\n",
       "      <td>1</td>\n",
       "      <td>2</td>\n",
       "      <td>20000</td>\n",
       "      <td>4</td>\n",
       "      <td>3</td>\n",
       "      <td>N</td>\n",
       "    </tr>\n",
       "    <tr>\n",
       "      <th>4</th>\n",
       "      <td>GRD</td>\n",
       "      <td>F</td>\n",
       "      <td>35</td>\n",
       "      <td>N</td>\n",
       "      <td>N</td>\n",
       "      <td>0</td>\n",
       "      <td>1</td>\n",
       "      <td>-2.552133</td>\n",
       "      <td>2</td>\n",
       "      <td>20</td>\n",
       "      <td>2</td>\n",
       "      <td>3</td>\n",
       "      <td>80000</td>\n",
       "      <td>1</td>\n",
       "      <td>3</td>\n",
       "      <td>N</td>\n",
       "    </tr>\n",
       "    <tr>\n",
       "      <th>5</th>\n",
       "      <td>UGR</td>\n",
       "      <td>F</td>\n",
       "      <td>24</td>\n",
       "      <td>N</td>\n",
       "      <td>N</td>\n",
       "      <td>0</td>\n",
       "      <td>0</td>\n",
       "      <td>-1.914581</td>\n",
       "      <td>1</td>\n",
       "      <td>50</td>\n",
       "      <td>2</td>\n",
       "      <td>3</td>\n",
       "      <td>27000</td>\n",
       "      <td>1</td>\n",
       "      <td>2</td>\n",
       "      <td>N</td>\n",
       "    </tr>\n",
       "  </tbody>\n",
       "</table>\n",
       "</div>"
      ],
      "text/plain": [
       "   education_cd gender_cd  age car_own_flg car_type_flg  appl_rej_cnt  \\\n",
       "id                                                                      \n",
       "1           SCH         M   27           Y            Y             0   \n",
       "2           GRD         F   26           N            N             0   \n",
       "3           SCH         M   35           N            N             0   \n",
       "4           GRD         F   35           N            N             0   \n",
       "5           UGR         F   24           N            N             0   \n",
       "\n",
       "    good_work_flg  Score_bki  out_request_cnt  region_rating  home_address_cd  \\\n",
       "id                                                                              \n",
       "1               0  -1.917831                0             40                2   \n",
       "2               0  -1.153144                2             60                2   \n",
       "3               1  -1.732810                0             40                1   \n",
       "4               1  -2.552133                2             20                2   \n",
       "5               0  -1.914581                1             50                2   \n",
       "\n",
       "    work_address_cd  income  SNA  first_time_cd Air_flg  \n",
       "id                                                       \n",
       "1                 3   32000    1              4       N  \n",
       "2                 3   50000    2              1       N  \n",
       "3                 2   20000    4              3       N  \n",
       "4                 3   80000    1              3       N  \n",
       "5                 3   27000    1              2       N  "
      ]
     },
     "execution_count": 21,
     "metadata": {},
     "output_type": "execute_result"
    }
   ],
   "source": [
    "#Заменим пустые значения на самое частое\n",
    "df.education_cd.fillna('SCH', inplace=True)\n",
    "df.head()"
   ]
  },
  {
   "cell_type": "code",
   "execution_count": 22,
   "metadata": {},
   "outputs": [
    {
     "data": {
      "text/html": [
       "<div>\n",
       "<table border=\"1\" class=\"dataframe\">\n",
       "  <thead>\n",
       "    <tr style=\"text-align: right;\">\n",
       "      <th></th>\n",
       "      <th>education_cd_GRD</th>\n",
       "      <th>education_cd_PGR</th>\n",
       "      <th>education_cd_SCH</th>\n",
       "      <th>education_cd_UGR</th>\n",
       "      <th>gender_cd_M</th>\n",
       "      <th>car_own_flg_Y</th>\n",
       "      <th>car_type_flg_Y</th>\n",
       "      <th>Air_flg_Y</th>\n",
       "    </tr>\n",
       "    <tr>\n",
       "      <th>id</th>\n",
       "      <th></th>\n",
       "      <th></th>\n",
       "      <th></th>\n",
       "      <th></th>\n",
       "      <th></th>\n",
       "      <th></th>\n",
       "      <th></th>\n",
       "      <th></th>\n",
       "    </tr>\n",
       "  </thead>\n",
       "  <tbody>\n",
       "    <tr>\n",
       "      <th>1</th>\n",
       "      <td>0.0</td>\n",
       "      <td>0.0</td>\n",
       "      <td>1.0</td>\n",
       "      <td>0.0</td>\n",
       "      <td>1.0</td>\n",
       "      <td>1.0</td>\n",
       "      <td>1.0</td>\n",
       "      <td>0.0</td>\n",
       "    </tr>\n",
       "    <tr>\n",
       "      <th>2</th>\n",
       "      <td>1.0</td>\n",
       "      <td>0.0</td>\n",
       "      <td>0.0</td>\n",
       "      <td>0.0</td>\n",
       "      <td>0.0</td>\n",
       "      <td>0.0</td>\n",
       "      <td>0.0</td>\n",
       "      <td>0.0</td>\n",
       "    </tr>\n",
       "  </tbody>\n",
       "</table>\n",
       "</div>"
      ],
      "text/plain": [
       "    education_cd_GRD  education_cd_PGR  education_cd_SCH  education_cd_UGR  \\\n",
       "id                                                                           \n",
       "1                0.0               0.0               1.0               0.0   \n",
       "2                1.0               0.0               0.0               0.0   \n",
       "\n",
       "    gender_cd_M  car_own_flg_Y  car_type_flg_Y  Air_flg_Y  \n",
       "id                                                         \n",
       "1           1.0            1.0             1.0        0.0  \n",
       "2           0.0            0.0             0.0        0.0  "
      ]
     },
     "execution_count": 22,
     "metadata": {},
     "output_type": "execute_result"
    }
   ],
   "source": [
    "#Производим dummy кодирование нечисловых полей\n",
    "Data_category = pd.get_dummies(df[category_columns], drop_first=True)\n",
    "Data_category.head(2)"
   ]
  },
  {
   "cell_type": "code",
   "execution_count": 23,
   "metadata": {},
   "outputs": [
    {
     "data": {
      "text/html": [
       "<div>\n",
       "<table border=\"1\" class=\"dataframe\">\n",
       "  <thead>\n",
       "    <tr style=\"text-align: right;\">\n",
       "      <th></th>\n",
       "      <th>age</th>\n",
       "      <th>appl_rej_cnt</th>\n",
       "      <th>good_work_flg</th>\n",
       "      <th>Score_bki</th>\n",
       "      <th>out_request_cnt</th>\n",
       "      <th>region_rating</th>\n",
       "      <th>home_address_cd</th>\n",
       "      <th>work_address_cd</th>\n",
       "      <th>income</th>\n",
       "      <th>SNA</th>\n",
       "      <th>first_time_cd</th>\n",
       "      <th>education_cd_GRD</th>\n",
       "      <th>education_cd_PGR</th>\n",
       "      <th>education_cd_SCH</th>\n",
       "      <th>education_cd_UGR</th>\n",
       "      <th>gender_cd_M</th>\n",
       "      <th>car_own_flg_Y</th>\n",
       "      <th>car_type_flg_Y</th>\n",
       "      <th>Air_flg_Y</th>\n",
       "    </tr>\n",
       "    <tr>\n",
       "      <th>id</th>\n",
       "      <th></th>\n",
       "      <th></th>\n",
       "      <th></th>\n",
       "      <th></th>\n",
       "      <th></th>\n",
       "      <th></th>\n",
       "      <th></th>\n",
       "      <th></th>\n",
       "      <th></th>\n",
       "      <th></th>\n",
       "      <th></th>\n",
       "      <th></th>\n",
       "      <th></th>\n",
       "      <th></th>\n",
       "      <th></th>\n",
       "      <th></th>\n",
       "      <th></th>\n",
       "      <th></th>\n",
       "      <th></th>\n",
       "    </tr>\n",
       "  </thead>\n",
       "  <tbody>\n",
       "    <tr>\n",
       "      <th>1</th>\n",
       "      <td>27</td>\n",
       "      <td>0</td>\n",
       "      <td>0</td>\n",
       "      <td>-1.917831</td>\n",
       "      <td>0</td>\n",
       "      <td>40</td>\n",
       "      <td>2</td>\n",
       "      <td>3</td>\n",
       "      <td>32000</td>\n",
       "      <td>1</td>\n",
       "      <td>4</td>\n",
       "      <td>0.0</td>\n",
       "      <td>0.0</td>\n",
       "      <td>1.0</td>\n",
       "      <td>0.0</td>\n",
       "      <td>1.0</td>\n",
       "      <td>1.0</td>\n",
       "      <td>1.0</td>\n",
       "      <td>0.0</td>\n",
       "    </tr>\n",
       "    <tr>\n",
       "      <th>2</th>\n",
       "      <td>26</td>\n",
       "      <td>0</td>\n",
       "      <td>0</td>\n",
       "      <td>-1.153144</td>\n",
       "      <td>2</td>\n",
       "      <td>60</td>\n",
       "      <td>2</td>\n",
       "      <td>3</td>\n",
       "      <td>50000</td>\n",
       "      <td>2</td>\n",
       "      <td>1</td>\n",
       "      <td>1.0</td>\n",
       "      <td>0.0</td>\n",
       "      <td>0.0</td>\n",
       "      <td>0.0</td>\n",
       "      <td>0.0</td>\n",
       "      <td>0.0</td>\n",
       "      <td>0.0</td>\n",
       "      <td>0.0</td>\n",
       "    </tr>\n",
       "  </tbody>\n",
       "</table>\n",
       "</div>"
      ],
      "text/plain": [
       "    age  appl_rej_cnt  good_work_flg  Score_bki  out_request_cnt  \\\n",
       "id                                                                 \n",
       "1    27             0              0  -1.917831                0   \n",
       "2    26             0              0  -1.153144                2   \n",
       "\n",
       "    region_rating  home_address_cd  work_address_cd  income  SNA  \\\n",
       "id                                                                 \n",
       "1              40                2                3   32000    1   \n",
       "2              60                2                3   50000    2   \n",
       "\n",
       "    first_time_cd  education_cd_GRD  education_cd_PGR  education_cd_SCH  \\\n",
       "id                                                                        \n",
       "1               4               0.0               0.0               1.0   \n",
       "2               1               1.0               0.0               0.0   \n",
       "\n",
       "    education_cd_UGR  gender_cd_M  car_own_flg_Y  car_type_flg_Y  Air_flg_Y  \n",
       "id                                                                           \n",
       "1                0.0          1.0            1.0             1.0        0.0  \n",
       "2                0.0          0.0            0.0             0.0        0.0  "
      ]
     },
     "execution_count": 23,
     "metadata": {},
     "output_type": "execute_result"
    }
   ],
   "source": [
    "#Заменяем нечисловые поля на dummy кодированные\n",
    "df.drop(category_columns, axis=1, inplace=True)\n",
    "df = pd.concat([df, Data_category], axis=1)\n",
    "del Data_category \n",
    "df.head(2)"
   ]
  },
  {
   "cell_type": "code",
   "execution_count": 24,
   "metadata": {},
   "outputs": [
    {
     "name": "stdout",
     "output_type": "stream",
     "text": [
      "age -0.026563097165\n",
      "appl_rej_cnt 0.111384294111\n",
      "good_work_flg -0.0471530378722\n",
      "Score_bki 0.175155154175\n",
      "out_request_cnt 0.0800219135665\n",
      "region_rating -0.0918536440866\n",
      "home_address_cd 0.0841237879181\n",
      "work_address_cd 0.0823685804201\n",
      "income -0.0385482105853\n",
      "SNA 0.125247521422\n",
      "first_time_cd -0.104764481224\n",
      "education_cd_GRD -0.0775958094469\n",
      "education_cd_PGR -0.0246254891081\n",
      "education_cd_SCH 0.0771333380324\n",
      "education_cd_UGR 0.00403231716368\n",
      "gender_cd_M 0.020414587528\n",
      "car_own_flg_Y -0.0414550352044\n",
      "car_type_flg_Y -0.0553045819644\n",
      "Air_flg_Y -0.0643071772249\n"
     ]
    }
   ],
   "source": [
    "# Проверяем типы полей\n",
    "df.dtypes\n",
    "data = df.loc[train_index]\n",
    "for col in data.columns:\n",
    "    print  col, data[col].corr(y.loc[train_index].default_flg)"
   ]
  },
  {
   "cell_type": "markdown",
   "metadata": {},
   "source": [
    "### PCA"
   ]
  },
  {
   "cell_type": "code",
   "execution_count": 25,
   "metadata": {
    "collapsed": true
   },
   "outputs": [],
   "source": [
    "from sklearn.preprocessing import StandardScaler"
   ]
  },
  {
   "cell_type": "code",
   "execution_count": 26,
   "metadata": {
    "collapsed": true
   },
   "outputs": [],
   "source": [
    "sScaler = StandardScaler(copy=True, with_mean=True, with_std=True)\n",
    "trainScaled = sScaler.fit_transform(df.loc[train_index])\n",
    "testScaled = sScaler.transform(df.loc[test_index])\n",
    "validateScaled = sScaler.transform(df.loc[validate_index])\n",
    "#forPca = pd.DataFrame(xScaled)\n",
    "\n",
    "#from sklearn.decomposition import PCA\n",
    "\n",
    "#pcaMod = PCA(n_components=2)\n",
    "#xPca = pcaMod.fit_transform(df)\n",
    "#xPcaDataframe = pd.DataFrame(xPca, columns=['PC1', 'PC2'])\n",
    "#xPcaDataframe['cat'] = y.loc[train_index].default_flg"
   ]
  },
  {
   "cell_type": "markdown",
   "metadata": {},
   "source": [
    "### LDA"
   ]
  },
  {
   "cell_type": "code",
   "execution_count": 27,
   "metadata": {
    "collapsed": true
   },
   "outputs": [],
   "source": [
    "from sklearn.discriminant_analysis import LinearDiscriminantAnalysis\n",
    "from sklearn.preprocessing import minmax_scale"
   ]
  },
  {
   "cell_type": "code",
   "execution_count": 28,
   "metadata": {
    "collapsed": true
   },
   "outputs": [],
   "source": [
    "#xScaled = minmax_scale(df.loc[train_index], feature_range=(0, 1))\n",
    "#ldaMod = LinearDiscriminantAnalysis(solver='eigen', shrinkage='auto', priors=None, n_components=2,\n",
    " #                                   store_covariance=False, tol=0.0001)"
   ]
  },
  {
   "cell_type": "code",
   "execution_count": 29,
   "metadata": {
    "collapsed": true
   },
   "outputs": [],
   "source": [
    "#fittedLdaMod = ldaMod.fit(xScaled, y.loc[train_index].default_flg).transform(xScaled)\n",
    "#ldaDf = pd.DataFrame(fittedLdaMod, columns=['one', 'two'])\n",
    "#ldaDf['cat'] = y.loc[train_index].default_flg"
   ]
  },
  {
   "cell_type": "code",
   "execution_count": 30,
   "metadata": {
    "collapsed": true
   },
   "outputs": [],
   "source": [
    "# Создаем новое поле\n",
    "#df['income_40k_flg'] = df.income.apply(lambda x: int(x > 40000))\n",
    "#df.drop('income', axis=1, inplace=True)"
   ]
  },
  {
   "cell_type": "markdown",
   "metadata": {},
   "source": [
    "#### Логистическая регрессия"
   ]
  },
  {
   "cell_type": "code",
   "execution_count": 31,
   "metadata": {
    "collapsed": true
   },
   "outputs": [],
   "source": [
    "#Импортируем логистическую регрессию\n",
    "from sklearn.linear_model import LogisticRegression\n",
    "from sklearn.metrics import roc_auc_score"
   ]
  },
  {
   "cell_type": "code",
   "execution_count": 32,
   "metadata": {},
   "outputs": [
    {
     "name": "stdout",
     "output_type": "stream",
     "text": [
      "   Train Validate    C\n",
      "0.722136 0.710095 0.000010\n",
      "0.728343 0.715990 0.000100\n",
      "0.729252 0.716437 0.001000\n",
      "0.729058 0.716113 0.010000\n",
      "0.729038 0.716109 0.100000\n",
      "0.729031 0.716115 1.000000\n",
      "0.729029 0.716115 10.000000\n",
      "0.729029 0.716115 100.000000\n",
      "0.729029 0.716115 1000.000000\n"
     ]
    }
   ],
   "source": [
    "#Выбираем параметр регуляризаци на валидационной выборке\n",
    "print ('%8s %8s %4s' % ('Train','Validate','C'))\n",
    "for C in [0.00001, 0.0001, 0.001, 0.01, 0.1, 1, 10, 100, 1000]:\n",
    "#for C in np.arange(1, 30, 1):\n",
    "    LR = LogisticRegression(C=C,penalty='l2')\n",
    "    LR.fit(trainScaled, y.loc[train_index].default_flg)\n",
    "    AUC_train = roc_auc_score(y.loc[train_index].default_flg, LR.predict_proba(trainScaled)[:,1])\n",
    "    AUC_validate = roc_auc_score(y.loc[validate_index].default_flg, LR.predict_proba(validateScaled)[:,1])\n",
    "    print('%.6f %.6f %8f' %  (AUC_train,AUC_validate,C))"
   ]
  },
  {
   "cell_type": "code",
   "execution_count": 33,
   "metadata": {
    "collapsed": true
   },
   "outputs": [],
   "source": [
    "#Запускаем лучшее решение и сохраняем результат\n",
    "LR_best = LogisticRegression(C=0.001, penalty='l2')\n",
    "LR.fit(trainScaled, y.loc[train_index].default_flg)\n",
    "test_l = LR.predict_proba(testScaled)[:,1]"
   ]
  },
  {
   "cell_type": "code",
   "execution_count": 34,
   "metadata": {
    "scrolled": true
   },
   "outputs": [
    {
     "data": {
      "text/html": [
       "<div>\n",
       "<table border=\"1\" class=\"dataframe\">\n",
       "  <thead>\n",
       "    <tr style=\"text-align: right;\">\n",
       "      <th></th>\n",
       "      <th>coef</th>\n",
       "    </tr>\n",
       "  </thead>\n",
       "  <tbody>\n",
       "    <tr>\n",
       "      <th>age</th>\n",
       "      <td>-0.064482</td>\n",
       "    </tr>\n",
       "    <tr>\n",
       "      <th>appl_rej_cnt</th>\n",
       "      <td>0.105972</td>\n",
       "    </tr>\n",
       "    <tr>\n",
       "      <th>good_work_flg</th>\n",
       "      <td>-0.091941</td>\n",
       "    </tr>\n",
       "    <tr>\n",
       "      <th>Score_bki</th>\n",
       "      <td>0.487701</td>\n",
       "    </tr>\n",
       "    <tr>\n",
       "      <th>out_request_cnt</th>\n",
       "      <td>0.149578</td>\n",
       "    </tr>\n",
       "    <tr>\n",
       "      <th>region_rating</th>\n",
       "      <td>-0.333882</td>\n",
       "    </tr>\n",
       "    <tr>\n",
       "      <th>home_address_cd</th>\n",
       "      <td>0.148079</td>\n",
       "    </tr>\n",
       "    <tr>\n",
       "      <th>work_address_cd</th>\n",
       "      <td>0.195633</td>\n",
       "    </tr>\n",
       "    <tr>\n",
       "      <th>income</th>\n",
       "      <td>-0.007382</td>\n",
       "    </tr>\n",
       "    <tr>\n",
       "      <th>SNA</th>\n",
       "      <td>0.163793</td>\n",
       "    </tr>\n",
       "    <tr>\n",
       "      <th>first_time_cd</th>\n",
       "      <td>-0.093938</td>\n",
       "    </tr>\n",
       "    <tr>\n",
       "      <th>education_cd_GRD</th>\n",
       "      <td>0.155938</td>\n",
       "    </tr>\n",
       "    <tr>\n",
       "      <th>education_cd_PGR</th>\n",
       "      <td>0.023643</td>\n",
       "    </tr>\n",
       "    <tr>\n",
       "      <th>education_cd_SCH</th>\n",
       "      <td>0.386614</td>\n",
       "    </tr>\n",
       "    <tr>\n",
       "      <th>education_cd_UGR</th>\n",
       "      <td>0.202563</td>\n",
       "    </tr>\n",
       "    <tr>\n",
       "      <th>gender_cd_M</th>\n",
       "      <td>0.137077</td>\n",
       "    </tr>\n",
       "    <tr>\n",
       "      <th>car_own_flg_Y</th>\n",
       "      <td>-0.012490</td>\n",
       "    </tr>\n",
       "    <tr>\n",
       "      <th>car_type_flg_Y</th>\n",
       "      <td>-0.095793</td>\n",
       "    </tr>\n",
       "    <tr>\n",
       "      <th>Air_flg_Y</th>\n",
       "      <td>-0.072105</td>\n",
       "    </tr>\n",
       "  </tbody>\n",
       "</table>\n",
       "</div>"
      ],
      "text/plain": [
       "                      coef\n",
       "age              -0.064482\n",
       "appl_rej_cnt      0.105972\n",
       "good_work_flg    -0.091941\n",
       "Score_bki         0.487701\n",
       "out_request_cnt   0.149578\n",
       "region_rating    -0.333882\n",
       "home_address_cd   0.148079\n",
       "work_address_cd   0.195633\n",
       "income           -0.007382\n",
       "SNA               0.163793\n",
       "first_time_cd    -0.093938\n",
       "education_cd_GRD  0.155938\n",
       "education_cd_PGR  0.023643\n",
       "education_cd_SCH  0.386614\n",
       "education_cd_UGR  0.202563\n",
       "gender_cd_M       0.137077\n",
       "car_own_flg_Y    -0.012490\n",
       "car_type_flg_Y   -0.095793\n",
       "Air_flg_Y        -0.072105"
      ]
     },
     "execution_count": 34,
     "metadata": {},
     "output_type": "execute_result"
    }
   ],
   "source": [
    "#Выводим коэффициенты\n",
    "pd.DataFrame(LR.coef_.reshape(LR.coef_.shape[1],1), index=df.columns, columns=['coef'])"
   ]
  },
  {
   "cell_type": "code",
   "execution_count": 35,
   "metadata": {},
   "outputs": [
    {
     "name": "stdout",
     "output_type": "stream",
     "text": [
      "(24480, 1)\n"
     ]
    },
    {
     "data": {
      "text/html": [
       "<div>\n",
       "<table border=\"1\" class=\"dataframe\">\n",
       "  <thead>\n",
       "    <tr style=\"text-align: right;\">\n",
       "      <th></th>\n",
       "      <th>score</th>\n",
       "    </tr>\n",
       "    <tr>\n",
       "      <th>id</th>\n",
       "      <th></th>\n",
       "    </tr>\n",
       "  </thead>\n",
       "  <tbody>\n",
       "    <tr>\n",
       "      <th>180817</th>\n",
       "      <td>0.074896</td>\n",
       "    </tr>\n",
       "    <tr>\n",
       "      <th>180818</th>\n",
       "      <td>0.119882</td>\n",
       "    </tr>\n",
       "  </tbody>\n",
       "</table>\n",
       "</div>"
      ],
      "text/plain": [
       "           score\n",
       "id              \n",
       "180817  0.074896\n",
       "180818  0.119882"
      ]
     },
     "execution_count": 35,
     "metadata": {},
     "output_type": "execute_result"
    }
   ],
   "source": [
    "#Сохраняем результат в csv\n",
    "test_pd = pd.DataFrame(test_l,columns=['score'], index=test_index)\n",
    "test_pd.to_csv('test_pd.csv')\n",
    "print(test_pd.shape)\n",
    "test_pd.head(2)"
   ]
  },
  {
   "cell_type": "markdown",
   "metadata": {},
   "source": [
    "#### Gaussian Naive Bayes"
   ]
  },
  {
   "cell_type": "code",
   "execution_count": 36,
   "metadata": {
    "collapsed": true
   },
   "outputs": [],
   "source": [
    "from sklearn.naive_bayes import GaussianNB, MultinomialNB, BernoulliNB"
   ]
  },
  {
   "cell_type": "code",
   "execution_count": 37,
   "metadata": {
    "collapsed": true
   },
   "outputs": [],
   "source": [
    "gnb = GaussianNB()\n",
    "mnb = MultinomialNB()\n",
    "bnb = BernoulliNB()"
   ]
  },
  {
   "cell_type": "code",
   "execution_count": 38,
   "metadata": {},
   "outputs": [
    {
     "data": {
      "text/plain": [
       "BernoulliNB(alpha=1.0, binarize=0.0, class_prior=None, fit_prior=True)"
      ]
     },
     "execution_count": 38,
     "metadata": {},
     "output_type": "execute_result"
    }
   ],
   "source": [
    "gnb.fit(trainScaled, y.loc[train_index].default_flg)\n",
    "#mnb.fit(df.loc[train_index], y.loc[train_index].default_flg)\n",
    "bnb.fit(trainScaled, y.loc[train_index].default_flg)"
   ]
  },
  {
   "cell_type": "code",
   "execution_count": 39,
   "metadata": {},
   "outputs": [
    {
     "name": "stdout",
     "output_type": "stream",
     "text": [
      "0.691929 0.682650\n"
     ]
    }
   ],
   "source": [
    "AUC_train = roc_auc_score(y.loc[train_index].default_flg, gnb.predict_proba(trainScaled)[:,1])\n",
    "AUC_validate = roc_auc_score(y.loc[validate_index].default_flg, gnb.predict_proba(validateScaled)[:,1])\n",
    "print('%.6f %.6f' %  (AUC_train, AUC_validate))"
   ]
  },
  {
   "cell_type": "code",
   "execution_count": 40,
   "metadata": {
    "collapsed": true
   },
   "outputs": [],
   "source": [
    "gnb_l = gnb.predict_proba(testScaled)[:,1]"
   ]
  },
  {
   "cell_type": "markdown",
   "metadata": {},
   "source": [
    "#### CART-Adaboost"
   ]
  },
  {
   "cell_type": "code",
   "execution_count": 41,
   "metadata": {
    "collapsed": true
   },
   "outputs": [],
   "source": [
    "from sklearn.ensemble import AdaBoostClassifier\n",
    "from sklearn.tree import DecisionTreeClassifier"
   ]
  },
  {
   "cell_type": "code",
   "execution_count": 42,
   "metadata": {},
   "outputs": [
    {
     "name": "stdout",
     "output_type": "stream",
     "text": [
      "0.753537 0.705075 0.100000\n"
     ]
    }
   ],
   "source": [
    "for n in [0.1]:\n",
    "    bdt = AdaBoostClassifier(DecisionTreeClassifier(max_depth=7), algorithm='SAMME',\n",
    "                             n_estimators=130, learning_rate = n)\n",
    "    bdt.fit(trainScaled, y.loc[train_index].default_flg)\n",
    "    AUC_train = roc_auc_score(y.loc[train_index].default_flg, bdt.predict_proba(trainScaled)[:,1])\n",
    "    AUC_validate = roc_auc_score(y.loc[validate_index].default_flg, bdt.predict_proba(validateScaled)[:,1])\n",
    "    print('%.6f %.6f %f' %  (AUC_train, AUC_validate, n))"
   ]
  },
  {
   "cell_type": "code",
   "execution_count": 43,
   "metadata": {
    "collapsed": true
   },
   "outputs": [],
   "source": [
    "#Запускаем лучшее решение и сохраняем результат\n",
    "best_bdt = AdaBoostClassifier(DecisionTreeClassifier(max_depth=7), algorithm='SAMME',\n",
    "                              n_estimators=130, learning_rate = 0.1)\n",
    "best_bdt.fit(trainScaled, y.loc[train_index].default_flg)\n",
    "bdt_l = best_bdt.predict_proba(testScaled)[:,1]"
   ]
  },
  {
   "cell_type": "markdown",
   "metadata": {},
   "source": [
    "#### Random Forest"
   ]
  },
  {
   "cell_type": "code",
   "execution_count": 44,
   "metadata": {
    "collapsed": true
   },
   "outputs": [],
   "source": [
    " from sklearn.ensemble import RandomForestClassifier"
   ]
  },
  {
   "cell_type": "code",
   "execution_count": 45,
   "metadata": {},
   "outputs": [
    {
     "name": "stdout",
     "output_type": "stream",
     "text": [
      "0.998406 0.706271 100.000000\n"
     ]
    }
   ],
   "source": [
    "for n in [100]:\n",
    "    rfc = RandomForestClassifier(n_estimators=2000, max_depth = 20, n_jobs = 4)\n",
    "    rfc.fit(trainScaled, y.loc[train_index].default_flg)\n",
    "    AUC_train = roc_auc_score(y.loc[train_index].default_flg, rfc.predict_proba(trainScaled)[:,1])\n",
    "    AUC_validate = roc_auc_score(y.loc[validate_index].default_flg, rfc.predict_proba(validateScaled)[:,1])\n",
    "    print('%.6f %.6f %f' %  (AUC_train, AUC_validate, n))"
   ]
  },
  {
   "cell_type": "code",
   "execution_count": 46,
   "metadata": {
    "collapsed": true
   },
   "outputs": [],
   "source": [
    "#Запускаем лучшее решение и сохраняем результат\n",
    "rfc_best = RandomForestClassifier(n_estimators=100, max_depth = 10, n_jobs = 4)\n",
    "rfc_best.fit(trainScaled, y.loc[train_index].default_flg)\n",
    "rfc_l = rfc_best.predict_proba(testScaled)[:,1]"
   ]
  },
  {
   "cell_type": "markdown",
   "metadata": {},
   "source": [
    "#### XGBoost"
   ]
  },
  {
   "cell_type": "code",
   "execution_count": 1,
   "metadata": {},
   "outputs": [
    {
     "name": "stderr",
     "output_type": "stream",
     "text": [
      "/anaconda/lib/python2.7/site-packages/sklearn/cross_validation.py:44: DeprecationWarning: This module was deprecated in version 0.18 in favor of the model_selection module into which all the refactored classes and functions are moved. Also note that the interface of the new CV iterators are different from that of this module. This module will be removed in 0.20.\n",
      "  \"This module will be removed in 0.20.\", DeprecationWarning)\n"
     ]
    }
   ],
   "source": [
    "import xgboost as xgb"
   ]
  },
  {
   "cell_type": "code",
   "execution_count": 2,
   "metadata": {
    "collapsed": true
   },
   "outputs": [],
   "source": [
    "bst = xgb.XGBClassifier()"
   ]
  },
  {
   "cell_type": "code",
   "execution_count": 3,
   "metadata": {},
   "outputs": [
    {
     "ename": "TypeError",
     "evalue": "fit() takes at least 3 arguments (1 given)",
     "output_type": "error",
     "traceback": [
      "\u001b[0;31m---------------------------------------------------------------------------\u001b[0m",
      "\u001b[0;31mTypeError\u001b[0m                                 Traceback (most recent call last)",
      "\u001b[0;32m<ipython-input-3-5e121e9f9ded>\u001b[0m in \u001b[0;36m<module>\u001b[0;34m()\u001b[0m\n\u001b[0;32m----> 1\u001b[0;31m \u001b[0mbst\u001b[0m\u001b[0;34m.\u001b[0m\u001b[0mfit\u001b[0m\u001b[0;34m(\u001b[0m\u001b[0;34m)\u001b[0m\u001b[0;34m\u001b[0m\u001b[0m\n\u001b[0m",
      "\u001b[0;31mTypeError\u001b[0m: fit() takes at least 3 arguments (1 given)"
     ]
    }
   ],
   "source": [
    "bst.fit()"
   ]
  },
  {
   "cell_type": "code",
   "execution_count": 48,
   "metadata": {
    "collapsed": true
   },
   "outputs": [],
   "source": [
    "dtrain = xgb.DMatrix(trainScaled, y.loc[train_index].values)\n",
    "xgtrain = xgb.DMatrix(trainScaled)\n",
    "dvalidate = xgb.DMatrix(validateScaled)"
   ]
  },
  {
   "cell_type": "code",
   "execution_count": 2,
   "metadata": {},
   "outputs": [
    {
     "ename": "NameError",
     "evalue": "name 'np' is not defined",
     "output_type": "error",
     "traceback": [
      "\u001b[0;31m---------------------------------------------------------------------------\u001b[0m",
      "\u001b[0;31mNameError\u001b[0m                                 Traceback (most recent call last)",
      "\u001b[0;32m<ipython-input-2-036fec35f5b2>\u001b[0m in \u001b[0;36m<module>\u001b[0;34m()\u001b[0m\n\u001b[1;32m      1\u001b[0m \u001b[0;34m\u001b[0m\u001b[0m\n\u001b[0;32m----> 2\u001b[0;31m \u001b[0;32mfor\u001b[0m \u001b[0ms\u001b[0m \u001b[0;32min\u001b[0m \u001b[0mnp\u001b[0m\u001b[0;34m.\u001b[0m\u001b[0marange\u001b[0m\u001b[0;34m(\u001b[0m\u001b[0;36m100\u001b[0m\u001b[0;34m,\u001b[0m \u001b[0;36m10000\u001b[0m\u001b[0;34m,\u001b[0m \u001b[0;36m100\u001b[0m\u001b[0;34m)\u001b[0m\u001b[0;34m:\u001b[0m\u001b[0;34m\u001b[0m\u001b[0m\n\u001b[0m\u001b[1;32m      3\u001b[0m     \u001b[0;32mfor\u001b[0m \u001b[0mg\u001b[0m \u001b[0;32min\u001b[0m \u001b[0;34m[\u001b[0m\u001b[0;34m'auto'\u001b[0m\u001b[0;34m]\u001b[0m\u001b[0;34m:\u001b[0m\u001b[0;34m\u001b[0m\u001b[0m\n\u001b[1;32m      4\u001b[0m         param = {'max_depth':3, 'tree_method':g, 'min_child_weight':2.4, 'subsample':0.7,\n\u001b[1;32m      5\u001b[0m                  'colsample_bytree':0.7, 'eta':0.3, 'silent':1, 'objective':'binary:logistic' }\n",
      "\u001b[0;31mNameError\u001b[0m: name 'np' is not defined"
     ]
    }
   ],
   "source": [
    "\n",
    "for s in np.arange(0.1, 0.2, 0.1):\n",
    "    for g in ['auto']:\n",
    "        param = {'max_depth':3, 'tree_method':g, 'min_child_weight':2.4, 'subsample':0.7,\n",
    "                 'colsample_bytree':0.7, 'eta':0.3, 'silent':1, 'objective':'binary:logistic' }\n",
    "        num_round = 60\n",
    "        bst = xgb.train(param, dtrain, num_round)\n",
    "        AUC_train = roc_auc_score(y.loc[train_index].default_flg, bst.predict(xgtrain))\n",
    "        AUC_validate = roc_auc_score(y.loc[validate_index].default_flg, bst.predict(dvalidate))\n",
    "        print('%.6f %.6f subsample = %f tree_method = %s' %  (AUC_train, AUC_validate, s, g))"
   ]
  },
  {
   "cell_type": "code",
   "execution_count": 56,
   "metadata": {
    "collapsed": true
   },
   "outputs": [],
   "source": [
    "#Запускаем лучшее решение и сохраняем результат\n",
    "param = {'max_depth':3, 'min_child_weight':2.4, 'subsample':0.7, 'colsample_bytree':0.7,\n",
    "         'eta':0.3, 'silent':1, 'objective':'binary:logistic' }\n",
    "num_round = 60\n",
    "xgb_best = xgb.train(param, dtrain, num_round)\n",
    "xgb_l = bst.predict(xgb.DMatrix(testScaled))"
   ]
  },
  {
   "cell_type": "code",
   "execution_count": 51,
   "metadata": {},
   "outputs": [
    {
     "name": "stdout",
     "output_type": "stream",
     "text": [
      "(24480, 1)\n"
     ]
    },
    {
     "data": {
      "text/html": [
       "<div>\n",
       "<table border=\"1\" class=\"dataframe\">\n",
       "  <thead>\n",
       "    <tr style=\"text-align: right;\">\n",
       "      <th></th>\n",
       "      <th>score</th>\n",
       "    </tr>\n",
       "    <tr>\n",
       "      <th>id</th>\n",
       "      <th></th>\n",
       "    </tr>\n",
       "  </thead>\n",
       "  <tbody>\n",
       "    <tr>\n",
       "      <th>180817</th>\n",
       "      <td>0.074896</td>\n",
       "    </tr>\n",
       "    <tr>\n",
       "      <th>180818</th>\n",
       "      <td>0.119882</td>\n",
       "    </tr>\n",
       "  </tbody>\n",
       "</table>\n",
       "</div>"
      ],
      "text/plain": [
       "           score\n",
       "id              \n",
       "180817  0.074896\n",
       "180818  0.119882"
      ]
     },
     "execution_count": 51,
     "metadata": {},
     "output_type": "execute_result"
    }
   ],
   "source": [
    "#Сохраняем результат в csv\n",
    "test_pd = pd.DataFrame(test_pd,columns=['score'], index=test_index)\n",
    "test_pd.to_csv('xgb.csv')\n",
    "print(test_pd.shape)\n",
    "test_pd.head(2)"
   ]
  },
  {
   "cell_type": "code",
   "execution_count": 52,
   "metadata": {
    "collapsed": true
   },
   "outputs": [],
   "source": [
    "#prob_list = np.vstack((test_l, gnb_l, bdt_l, rfc_l, xgb_l)).T\n",
    "prob_list = np.vstack((test_l, gnb_l, rfc_l, xgb_l)).T\n",
    "#prob_list = np.transpose(prob_list)\n",
    "prob_pd = pd.DataFrame(prob_list, columns=['score Log', 'GNB', 'RFC', 'XGB'], index=test_index)\n",
    "#prob_pd = pd.DataFrame(prob_list, columns=['score Log', 'GNB', 'BDT', 'RFC', 'XGB'], index=test_index)"
   ]
  },
  {
   "cell_type": "code",
   "execution_count": 53,
   "metadata": {},
   "outputs": [
    {
     "data": {
      "text/html": [
       "<div>\n",
       "<table border=\"1\" class=\"dataframe\">\n",
       "  <thead>\n",
       "    <tr style=\"text-align: right;\">\n",
       "      <th></th>\n",
       "      <th>score Log</th>\n",
       "      <th>GNB</th>\n",
       "      <th>RFC</th>\n",
       "      <th>XGB</th>\n",
       "      <th>Score</th>\n",
       "    </tr>\n",
       "    <tr>\n",
       "      <th>id</th>\n",
       "      <th></th>\n",
       "      <th></th>\n",
       "      <th></th>\n",
       "      <th></th>\n",
       "      <th></th>\n",
       "    </tr>\n",
       "  </thead>\n",
       "  <tbody>\n",
       "    <tr>\n",
       "      <th>180817</th>\n",
       "      <td>0.074896</td>\n",
       "      <td>1.673303e-01</td>\n",
       "      <td>0.105116</td>\n",
       "      <td>0.104059</td>\n",
       "      <td>0.112850</td>\n",
       "    </tr>\n",
       "    <tr>\n",
       "      <th>180818</th>\n",
       "      <td>0.119882</td>\n",
       "      <td>2.688187e-09</td>\n",
       "      <td>0.190782</td>\n",
       "      <td>0.124710</td>\n",
       "      <td>0.108844</td>\n",
       "    </tr>\n",
       "    <tr>\n",
       "      <th>180819</th>\n",
       "      <td>0.058424</td>\n",
       "      <td>4.001438e-02</td>\n",
       "      <td>0.078732</td>\n",
       "      <td>0.061664</td>\n",
       "      <td>0.059709</td>\n",
       "    </tr>\n",
       "    <tr>\n",
       "      <th>180820</th>\n",
       "      <td>0.115196</td>\n",
       "      <td>4.409736e-01</td>\n",
       "      <td>0.126687</td>\n",
       "      <td>0.103591</td>\n",
       "      <td>0.196612</td>\n",
       "    </tr>\n",
       "    <tr>\n",
       "      <th>180821</th>\n",
       "      <td>0.037131</td>\n",
       "      <td>1.330781e-03</td>\n",
       "      <td>0.066232</td>\n",
       "      <td>0.040957</td>\n",
       "      <td>0.036413</td>\n",
       "    </tr>\n",
       "    <tr>\n",
       "      <th>180822</th>\n",
       "      <td>0.141562</td>\n",
       "      <td>4.066461e-01</td>\n",
       "      <td>0.145906</td>\n",
       "      <td>0.102102</td>\n",
       "      <td>0.199054</td>\n",
       "    </tr>\n",
       "    <tr>\n",
       "      <th>180823</th>\n",
       "      <td>0.064439</td>\n",
       "      <td>8.928004e-02</td>\n",
       "      <td>0.058494</td>\n",
       "      <td>0.053750</td>\n",
       "      <td>0.066491</td>\n",
       "    </tr>\n",
       "    <tr>\n",
       "      <th>180824</th>\n",
       "      <td>0.018719</td>\n",
       "      <td>8.278293e-05</td>\n",
       "      <td>0.027919</td>\n",
       "      <td>0.018261</td>\n",
       "      <td>0.016246</td>\n",
       "    </tr>\n",
       "    <tr>\n",
       "      <th>180825</th>\n",
       "      <td>0.050541</td>\n",
       "      <td>7.180928e-03</td>\n",
       "      <td>0.068415</td>\n",
       "      <td>0.056167</td>\n",
       "      <td>0.045576</td>\n",
       "    </tr>\n",
       "    <tr>\n",
       "      <th>180826</th>\n",
       "      <td>0.063028</td>\n",
       "      <td>3.750553e-02</td>\n",
       "      <td>0.097162</td>\n",
       "      <td>0.058113</td>\n",
       "      <td>0.063952</td>\n",
       "    </tr>\n",
       "    <tr>\n",
       "      <th>180827</th>\n",
       "      <td>0.037716</td>\n",
       "      <td>3.138971e-02</td>\n",
       "      <td>0.039665</td>\n",
       "      <td>0.044982</td>\n",
       "      <td>0.038438</td>\n",
       "    </tr>\n",
       "    <tr>\n",
       "      <th>180828</th>\n",
       "      <td>0.179681</td>\n",
       "      <td>2.138848e-01</td>\n",
       "      <td>0.137581</td>\n",
       "      <td>0.123335</td>\n",
       "      <td>0.163620</td>\n",
       "    </tr>\n",
       "    <tr>\n",
       "      <th>180829</th>\n",
       "      <td>0.311897</td>\n",
       "      <td>5.281484e-01</td>\n",
       "      <td>0.274021</td>\n",
       "      <td>0.301914</td>\n",
       "      <td>0.353995</td>\n",
       "    </tr>\n",
       "    <tr>\n",
       "      <th>180830</th>\n",
       "      <td>0.057532</td>\n",
       "      <td>2.025568e-04</td>\n",
       "      <td>0.098413</td>\n",
       "      <td>0.037892</td>\n",
       "      <td>0.048510</td>\n",
       "    </tr>\n",
       "    <tr>\n",
       "      <th>180831</th>\n",
       "      <td>0.031438</td>\n",
       "      <td>1.176017e-02</td>\n",
       "      <td>0.044947</td>\n",
       "      <td>0.039132</td>\n",
       "      <td>0.031819</td>\n",
       "    </tr>\n",
       "    <tr>\n",
       "      <th>180832</th>\n",
       "      <td>0.022922</td>\n",
       "      <td>6.758958e-05</td>\n",
       "      <td>0.082379</td>\n",
       "      <td>0.026268</td>\n",
       "      <td>0.032909</td>\n",
       "    </tr>\n",
       "    <tr>\n",
       "      <th>180833</th>\n",
       "      <td>0.406492</td>\n",
       "      <td>1.000000e+00</td>\n",
       "      <td>0.254126</td>\n",
       "      <td>0.301328</td>\n",
       "      <td>0.490486</td>\n",
       "    </tr>\n",
       "    <tr>\n",
       "      <th>180834</th>\n",
       "      <td>0.018769</td>\n",
       "      <td>1.594022e-03</td>\n",
       "      <td>0.036861</td>\n",
       "      <td>0.015078</td>\n",
       "      <td>0.018076</td>\n",
       "    </tr>\n",
       "    <tr>\n",
       "      <th>180835</th>\n",
       "      <td>0.048552</td>\n",
       "      <td>3.215419e-02</td>\n",
       "      <td>0.140737</td>\n",
       "      <td>0.047732</td>\n",
       "      <td>0.067294</td>\n",
       "    </tr>\n",
       "    <tr>\n",
       "      <th>180836</th>\n",
       "      <td>0.050325</td>\n",
       "      <td>2.404063e-02</td>\n",
       "      <td>0.066093</td>\n",
       "      <td>0.042094</td>\n",
       "      <td>0.045638</td>\n",
       "    </tr>\n",
       "    <tr>\n",
       "      <th>180837</th>\n",
       "      <td>0.057828</td>\n",
       "      <td>3.298562e-01</td>\n",
       "      <td>0.089098</td>\n",
       "      <td>0.057033</td>\n",
       "      <td>0.133454</td>\n",
       "    </tr>\n",
       "    <tr>\n",
       "      <th>180838</th>\n",
       "      <td>0.214192</td>\n",
       "      <td>6.336525e-01</td>\n",
       "      <td>0.184341</td>\n",
       "      <td>0.143963</td>\n",
       "      <td>0.294037</td>\n",
       "    </tr>\n",
       "    <tr>\n",
       "      <th>180839</th>\n",
       "      <td>0.102600</td>\n",
       "      <td>1.441985e-01</td>\n",
       "      <td>0.124820</td>\n",
       "      <td>0.117230</td>\n",
       "      <td>0.122212</td>\n",
       "    </tr>\n",
       "    <tr>\n",
       "      <th>180840</th>\n",
       "      <td>0.050834</td>\n",
       "      <td>3.325250e-15</td>\n",
       "      <td>0.089550</td>\n",
       "      <td>0.071094</td>\n",
       "      <td>0.052869</td>\n",
       "    </tr>\n",
       "    <tr>\n",
       "      <th>180841</th>\n",
       "      <td>0.091076</td>\n",
       "      <td>4.462353e-02</td>\n",
       "      <td>0.060542</td>\n",
       "      <td>0.076082</td>\n",
       "      <td>0.068081</td>\n",
       "    </tr>\n",
       "    <tr>\n",
       "      <th>180842</th>\n",
       "      <td>0.047765</td>\n",
       "      <td>7.770002e-03</td>\n",
       "      <td>0.057884</td>\n",
       "      <td>0.051457</td>\n",
       "      <td>0.041219</td>\n",
       "    </tr>\n",
       "    <tr>\n",
       "      <th>180843</th>\n",
       "      <td>0.123020</td>\n",
       "      <td>1.124237e-01</td>\n",
       "      <td>0.166823</td>\n",
       "      <td>0.166347</td>\n",
       "      <td>0.142154</td>\n",
       "    </tr>\n",
       "    <tr>\n",
       "      <th>180844</th>\n",
       "      <td>0.059483</td>\n",
       "      <td>2.920388e-02</td>\n",
       "      <td>0.100105</td>\n",
       "      <td>0.071917</td>\n",
       "      <td>0.065177</td>\n",
       "    </tr>\n",
       "    <tr>\n",
       "      <th>180845</th>\n",
       "      <td>0.064571</td>\n",
       "      <td>6.399986e-02</td>\n",
       "      <td>0.066412</td>\n",
       "      <td>0.101164</td>\n",
       "      <td>0.074037</td>\n",
       "    </tr>\n",
       "    <tr>\n",
       "      <th>180846</th>\n",
       "      <td>0.033167</td>\n",
       "      <td>8.133500e-05</td>\n",
       "      <td>0.037562</td>\n",
       "      <td>0.030449</td>\n",
       "      <td>0.025315</td>\n",
       "    </tr>\n",
       "    <tr>\n",
       "      <th>...</th>\n",
       "      <td>...</td>\n",
       "      <td>...</td>\n",
       "      <td>...</td>\n",
       "      <td>...</td>\n",
       "      <td>...</td>\n",
       "    </tr>\n",
       "    <tr>\n",
       "      <th>205267</th>\n",
       "      <td>0.020010</td>\n",
       "      <td>4.001327e-04</td>\n",
       "      <td>0.034440</td>\n",
       "      <td>0.018180</td>\n",
       "      <td>0.018257</td>\n",
       "    </tr>\n",
       "    <tr>\n",
       "      <th>205268</th>\n",
       "      <td>0.018722</td>\n",
       "      <td>5.781277e-03</td>\n",
       "      <td>0.045253</td>\n",
       "      <td>0.024856</td>\n",
       "      <td>0.023653</td>\n",
       "    </tr>\n",
       "    <tr>\n",
       "      <th>205269</th>\n",
       "      <td>0.012522</td>\n",
       "      <td>3.595880e-04</td>\n",
       "      <td>0.015351</td>\n",
       "      <td>0.007480</td>\n",
       "      <td>0.008928</td>\n",
       "    </tr>\n",
       "    <tr>\n",
       "      <th>205270</th>\n",
       "      <td>0.254807</td>\n",
       "      <td>3.769893e-01</td>\n",
       "      <td>0.205099</td>\n",
       "      <td>0.166369</td>\n",
       "      <td>0.250816</td>\n",
       "    </tr>\n",
       "    <tr>\n",
       "      <th>205271</th>\n",
       "      <td>0.010681</td>\n",
       "      <td>5.459143e-05</td>\n",
       "      <td>0.013418</td>\n",
       "      <td>0.011040</td>\n",
       "      <td>0.008798</td>\n",
       "    </tr>\n",
       "    <tr>\n",
       "      <th>205272</th>\n",
       "      <td>0.030364</td>\n",
       "      <td>6.948482e-03</td>\n",
       "      <td>0.051512</td>\n",
       "      <td>0.019424</td>\n",
       "      <td>0.027062</td>\n",
       "    </tr>\n",
       "    <tr>\n",
       "      <th>205273</th>\n",
       "      <td>0.123737</td>\n",
       "      <td>2.388561e-02</td>\n",
       "      <td>0.094228</td>\n",
       "      <td>0.077202</td>\n",
       "      <td>0.079763</td>\n",
       "    </tr>\n",
       "    <tr>\n",
       "      <th>205274</th>\n",
       "      <td>0.037278</td>\n",
       "      <td>1.069853e-02</td>\n",
       "      <td>0.032770</td>\n",
       "      <td>0.025316</td>\n",
       "      <td>0.026516</td>\n",
       "    </tr>\n",
       "    <tr>\n",
       "      <th>205275</th>\n",
       "      <td>0.384454</td>\n",
       "      <td>9.774358e-01</td>\n",
       "      <td>0.295520</td>\n",
       "      <td>0.322413</td>\n",
       "      <td>0.494956</td>\n",
       "    </tr>\n",
       "    <tr>\n",
       "      <th>205276</th>\n",
       "      <td>0.172329</td>\n",
       "      <td>2.314018e-01</td>\n",
       "      <td>0.153663</td>\n",
       "      <td>0.130696</td>\n",
       "      <td>0.172022</td>\n",
       "    </tr>\n",
       "    <tr>\n",
       "      <th>205277</th>\n",
       "      <td>0.067968</td>\n",
       "      <td>1.212102e-02</td>\n",
       "      <td>0.077416</td>\n",
       "      <td>0.080478</td>\n",
       "      <td>0.059496</td>\n",
       "    </tr>\n",
       "    <tr>\n",
       "      <th>205278</th>\n",
       "      <td>0.013543</td>\n",
       "      <td>1.643846e-04</td>\n",
       "      <td>0.025150</td>\n",
       "      <td>0.010215</td>\n",
       "      <td>0.012268</td>\n",
       "    </tr>\n",
       "    <tr>\n",
       "      <th>205279</th>\n",
       "      <td>0.026971</td>\n",
       "      <td>2.062804e-03</td>\n",
       "      <td>0.038320</td>\n",
       "      <td>0.029313</td>\n",
       "      <td>0.024167</td>\n",
       "    </tr>\n",
       "    <tr>\n",
       "      <th>205280</th>\n",
       "      <td>0.041513</td>\n",
       "      <td>1.700658e-03</td>\n",
       "      <td>0.033208</td>\n",
       "      <td>0.022895</td>\n",
       "      <td>0.024829</td>\n",
       "    </tr>\n",
       "    <tr>\n",
       "      <th>205281</th>\n",
       "      <td>0.086146</td>\n",
       "      <td>1.744228e-01</td>\n",
       "      <td>0.098441</td>\n",
       "      <td>0.091987</td>\n",
       "      <td>0.112749</td>\n",
       "    </tr>\n",
       "    <tr>\n",
       "      <th>205282</th>\n",
       "      <td>0.021467</td>\n",
       "      <td>2.356614e-04</td>\n",
       "      <td>0.026415</td>\n",
       "      <td>0.017986</td>\n",
       "      <td>0.016526</td>\n",
       "    </tr>\n",
       "    <tr>\n",
       "      <th>205283</th>\n",
       "      <td>0.135188</td>\n",
       "      <td>1.281181e-02</td>\n",
       "      <td>0.089779</td>\n",
       "      <td>0.048020</td>\n",
       "      <td>0.071450</td>\n",
       "    </tr>\n",
       "    <tr>\n",
       "      <th>205284</th>\n",
       "      <td>0.060532</td>\n",
       "      <td>1.058615e-01</td>\n",
       "      <td>0.095924</td>\n",
       "      <td>0.048996</td>\n",
       "      <td>0.077828</td>\n",
       "    </tr>\n",
       "    <tr>\n",
       "      <th>205285</th>\n",
       "      <td>0.067621</td>\n",
       "      <td>2.084604e-01</td>\n",
       "      <td>0.085475</td>\n",
       "      <td>0.071766</td>\n",
       "      <td>0.108331</td>\n",
       "    </tr>\n",
       "    <tr>\n",
       "      <th>205286</th>\n",
       "      <td>0.044233</td>\n",
       "      <td>1.094198e-02</td>\n",
       "      <td>0.055423</td>\n",
       "      <td>0.053812</td>\n",
       "      <td>0.041103</td>\n",
       "    </tr>\n",
       "    <tr>\n",
       "      <th>205287</th>\n",
       "      <td>0.019629</td>\n",
       "      <td>1.596641e-02</td>\n",
       "      <td>0.030153</td>\n",
       "      <td>0.017569</td>\n",
       "      <td>0.020830</td>\n",
       "    </tr>\n",
       "    <tr>\n",
       "      <th>205288</th>\n",
       "      <td>0.093576</td>\n",
       "      <td>4.350491e-02</td>\n",
       "      <td>0.101075</td>\n",
       "      <td>0.071022</td>\n",
       "      <td>0.077295</td>\n",
       "    </tr>\n",
       "    <tr>\n",
       "      <th>205289</th>\n",
       "      <td>0.014700</td>\n",
       "      <td>5.980863e-07</td>\n",
       "      <td>0.020598</td>\n",
       "      <td>0.012059</td>\n",
       "      <td>0.011839</td>\n",
       "    </tr>\n",
       "    <tr>\n",
       "      <th>205290</th>\n",
       "      <td>0.037847</td>\n",
       "      <td>2.738939e-03</td>\n",
       "      <td>0.069131</td>\n",
       "      <td>0.036848</td>\n",
       "      <td>0.036641</td>\n",
       "    </tr>\n",
       "    <tr>\n",
       "      <th>205291</th>\n",
       "      <td>0.042397</td>\n",
       "      <td>1.498348e-03</td>\n",
       "      <td>0.054050</td>\n",
       "      <td>0.030565</td>\n",
       "      <td>0.032128</td>\n",
       "    </tr>\n",
       "    <tr>\n",
       "      <th>205292</th>\n",
       "      <td>0.025414</td>\n",
       "      <td>8.184720e-03</td>\n",
       "      <td>0.032928</td>\n",
       "      <td>0.013678</td>\n",
       "      <td>0.020051</td>\n",
       "    </tr>\n",
       "    <tr>\n",
       "      <th>205293</th>\n",
       "      <td>0.115372</td>\n",
       "      <td>4.831172e-01</td>\n",
       "      <td>0.148218</td>\n",
       "      <td>0.149424</td>\n",
       "      <td>0.224033</td>\n",
       "    </tr>\n",
       "    <tr>\n",
       "      <th>205294</th>\n",
       "      <td>0.010644</td>\n",
       "      <td>2.188571e-05</td>\n",
       "      <td>0.019912</td>\n",
       "      <td>0.010864</td>\n",
       "      <td>0.010360</td>\n",
       "    </tr>\n",
       "    <tr>\n",
       "      <th>205295</th>\n",
       "      <td>0.083353</td>\n",
       "      <td>3.320017e-16</td>\n",
       "      <td>0.134770</td>\n",
       "      <td>0.116433</td>\n",
       "      <td>0.083639</td>\n",
       "    </tr>\n",
       "    <tr>\n",
       "      <th>205296</th>\n",
       "      <td>0.074418</td>\n",
       "      <td>2.100621e-03</td>\n",
       "      <td>0.097302</td>\n",
       "      <td>0.079610</td>\n",
       "      <td>0.063358</td>\n",
       "    </tr>\n",
       "  </tbody>\n",
       "</table>\n",
       "<p>24480 rows × 5 columns</p>\n",
       "</div>"
      ],
      "text/plain": [
       "        score Log           GNB       RFC       XGB     Score\n",
       "id                                                           \n",
       "180817   0.074896  1.673303e-01  0.105116  0.104059  0.112850\n",
       "180818   0.119882  2.688187e-09  0.190782  0.124710  0.108844\n",
       "180819   0.058424  4.001438e-02  0.078732  0.061664  0.059709\n",
       "180820   0.115196  4.409736e-01  0.126687  0.103591  0.196612\n",
       "180821   0.037131  1.330781e-03  0.066232  0.040957  0.036413\n",
       "180822   0.141562  4.066461e-01  0.145906  0.102102  0.199054\n",
       "180823   0.064439  8.928004e-02  0.058494  0.053750  0.066491\n",
       "180824   0.018719  8.278293e-05  0.027919  0.018261  0.016246\n",
       "180825   0.050541  7.180928e-03  0.068415  0.056167  0.045576\n",
       "180826   0.063028  3.750553e-02  0.097162  0.058113  0.063952\n",
       "180827   0.037716  3.138971e-02  0.039665  0.044982  0.038438\n",
       "180828   0.179681  2.138848e-01  0.137581  0.123335  0.163620\n",
       "180829   0.311897  5.281484e-01  0.274021  0.301914  0.353995\n",
       "180830   0.057532  2.025568e-04  0.098413  0.037892  0.048510\n",
       "180831   0.031438  1.176017e-02  0.044947  0.039132  0.031819\n",
       "180832   0.022922  6.758958e-05  0.082379  0.026268  0.032909\n",
       "180833   0.406492  1.000000e+00  0.254126  0.301328  0.490486\n",
       "180834   0.018769  1.594022e-03  0.036861  0.015078  0.018076\n",
       "180835   0.048552  3.215419e-02  0.140737  0.047732  0.067294\n",
       "180836   0.050325  2.404063e-02  0.066093  0.042094  0.045638\n",
       "180837   0.057828  3.298562e-01  0.089098  0.057033  0.133454\n",
       "180838   0.214192  6.336525e-01  0.184341  0.143963  0.294037\n",
       "180839   0.102600  1.441985e-01  0.124820  0.117230  0.122212\n",
       "180840   0.050834  3.325250e-15  0.089550  0.071094  0.052869\n",
       "180841   0.091076  4.462353e-02  0.060542  0.076082  0.068081\n",
       "180842   0.047765  7.770002e-03  0.057884  0.051457  0.041219\n",
       "180843   0.123020  1.124237e-01  0.166823  0.166347  0.142154\n",
       "180844   0.059483  2.920388e-02  0.100105  0.071917  0.065177\n",
       "180845   0.064571  6.399986e-02  0.066412  0.101164  0.074037\n",
       "180846   0.033167  8.133500e-05  0.037562  0.030449  0.025315\n",
       "...           ...           ...       ...       ...       ...\n",
       "205267   0.020010  4.001327e-04  0.034440  0.018180  0.018257\n",
       "205268   0.018722  5.781277e-03  0.045253  0.024856  0.023653\n",
       "205269   0.012522  3.595880e-04  0.015351  0.007480  0.008928\n",
       "205270   0.254807  3.769893e-01  0.205099  0.166369  0.250816\n",
       "205271   0.010681  5.459143e-05  0.013418  0.011040  0.008798\n",
       "205272   0.030364  6.948482e-03  0.051512  0.019424  0.027062\n",
       "205273   0.123737  2.388561e-02  0.094228  0.077202  0.079763\n",
       "205274   0.037278  1.069853e-02  0.032770  0.025316  0.026516\n",
       "205275   0.384454  9.774358e-01  0.295520  0.322413  0.494956\n",
       "205276   0.172329  2.314018e-01  0.153663  0.130696  0.172022\n",
       "205277   0.067968  1.212102e-02  0.077416  0.080478  0.059496\n",
       "205278   0.013543  1.643846e-04  0.025150  0.010215  0.012268\n",
       "205279   0.026971  2.062804e-03  0.038320  0.029313  0.024167\n",
       "205280   0.041513  1.700658e-03  0.033208  0.022895  0.024829\n",
       "205281   0.086146  1.744228e-01  0.098441  0.091987  0.112749\n",
       "205282   0.021467  2.356614e-04  0.026415  0.017986  0.016526\n",
       "205283   0.135188  1.281181e-02  0.089779  0.048020  0.071450\n",
       "205284   0.060532  1.058615e-01  0.095924  0.048996  0.077828\n",
       "205285   0.067621  2.084604e-01  0.085475  0.071766  0.108331\n",
       "205286   0.044233  1.094198e-02  0.055423  0.053812  0.041103\n",
       "205287   0.019629  1.596641e-02  0.030153  0.017569  0.020830\n",
       "205288   0.093576  4.350491e-02  0.101075  0.071022  0.077295\n",
       "205289   0.014700  5.980863e-07  0.020598  0.012059  0.011839\n",
       "205290   0.037847  2.738939e-03  0.069131  0.036848  0.036641\n",
       "205291   0.042397  1.498348e-03  0.054050  0.030565  0.032128\n",
       "205292   0.025414  8.184720e-03  0.032928  0.013678  0.020051\n",
       "205293   0.115372  4.831172e-01  0.148218  0.149424  0.224033\n",
       "205294   0.010644  2.188571e-05  0.019912  0.010864  0.010360\n",
       "205295   0.083353  3.320017e-16  0.134770  0.116433  0.083639\n",
       "205296   0.074418  2.100621e-03  0.097302  0.079610  0.063358\n",
       "\n",
       "[24480 rows x 5 columns]"
      ]
     },
     "execution_count": 53,
     "metadata": {},
     "output_type": "execute_result"
    }
   ],
   "source": [
    "prob_pd['Score'] = prob_pd.mean(numeric_only=True, axis=1)\n",
    "prob_pd"
   ]
  },
  {
   "cell_type": "code",
   "execution_count": 54,
   "metadata": {
    "collapsed": true
   },
   "outputs": [],
   "source": [
    "prob_pd['Score'] = prob_pd.mean(numeric_only=True, axis=1)\n",
    "ans = pd.DataFrame(prob_pd['Score'])\n",
    "ans.to_csv('ans.csv')"
   ]
  },
  {
   "cell_type": "markdown",
   "metadata": {},
   "source": [
    "## Voting"
   ]
  },
  {
   "cell_type": "code",
   "execution_count": 55,
   "metadata": {
    "collapsed": true
   },
   "outputs": [],
   "source": [
    "from sklearn.ensemble import VotingClassifier\n",
    "eclf = VotingClassifier(estimators=[('lr', LR_best), ('gnb', gnb), ('bdt', best_bdt),\n",
    "                                    ('rfc', rfc_best)], voting='soft', weights=[2,1,2,2])\n",
    "\n",
    "#eclf.fit(trainScaled, y.loc[train_index].default_flg)\n",
    "#AUC_train = roc_auc_score(y.loc[train_index].default_flg, eclf.predict_proba(trainScaled)[:,1])\n",
    "#AUC_validate = roc_auc_score(y.loc[validate_index].default_flg, eclf.predict_proba(validateScaled)[:,1])\n",
    "#print('%.6f %.6f' %  (AUC_train, AUC_validate))"
   ]
  }
 ],
 "metadata": {
  "anaconda-cloud": {},
  "kernelspec": {
   "display_name": "Python 3",
   "language": "python",
   "name": "python3"
  },
  "language_info": {
   "codemirror_mode": {
    "name": "ipython",
    "version": 3
   },
   "file_extension": ".py",
   "mimetype": "text/x-python",
   "name": "python",
   "nbconvert_exporter": "python",
   "pygments_lexer": "ipython3",
   "version": "3.7.4"
  }
 },
 "nbformat": 4,
 "nbformat_minor": 1
}
